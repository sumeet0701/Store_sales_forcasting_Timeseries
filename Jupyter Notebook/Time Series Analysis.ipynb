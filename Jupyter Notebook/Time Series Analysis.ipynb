{
 "cells": [
  {
   "cell_type": "code",
   "execution_count": 1,
   "id": "ae676c0c",
   "metadata": {},
   "outputs": [],
   "source": [
    "# importing import libraries\n",
    "import pandas as pd\n",
    "import numpy as np\n",
    "import warnings\n",
    "warnings.filterwarnings('ignore' )\n",
    "import seaborn as sns\n",
    "import matplotlib.pyplot as plt\n",
    "from datetime import datetime\n",
    "from sklearn.preprocessing import StandardScaler\n",
    "import statsmodels.api as sm\n",
    "from statsmodels.graphics.tsaplots import plot_pacf\n",
    "from statsmodels.graphics.tsaplots import plot_acf\n",
    "from statsmodels.tsa.stattools import adfuller\n",
    "import pmdarima as pm\n",
    "import prophet\n",
    "from pmdarima.arima import auto_arima\n",
    "import lightgbm as lgb\n",
    "\n",
    "import tensorflow as tf\n",
    "from tensorflow import keras\n",
    "from keras.preprocessing.sequence import TimeseriesGenerator"
   ]
  },
  {
   "cell_type": "code",
   "execution_count": 2,
   "id": "20e03bb3",
   "metadata": {},
   "outputs": [],
   "source": [
    "df = pd.read_csv(r\"C:\\Users\\Sumeet Maheshwari\\Desktop\\end to end project\\store_sales_forcasting\\store_sales_forcasting\\Jup_Notebook\\Merged_dataset\\final_clean.csv\")\n",
    "test_df = pd.read_csv(r\"C:\\Users\\Sumeet Maheshwari\\Desktop\\end to end project\\store_sales_forcasting\\store_sales_forcasting\\Jup_Notebook\\data_set\\test.csv\")"
   ]
  },
  {
   "cell_type": "code",
   "execution_count": 3,
   "id": "1765efc4",
   "metadata": {
    "scrolled": true
   },
   "outputs": [
    {
     "data": {
      "text/plain": [
       "Index(['Unnamed: 0', 'date', 'store_nbr', 'family', 'sales', 'onpromotion',\n",
       "       'holiday_type', 'locale', 'locale_name', 'description', 'transferred',\n",
       "       'oil_price', 'city', 'state', 'store_type', 'cluster', 'transactions',\n",
       "       'year', 'month', 'week', 'quarter', 'day_of_week'],\n",
       "      dtype='object')"
      ]
     },
     "execution_count": 3,
     "metadata": {},
     "output_type": "execute_result"
    }
   ],
   "source": [
    "df.columns"
   ]
  },
  {
   "cell_type": "code",
   "execution_count": 4,
   "id": "cc7991d5",
   "metadata": {
    "scrolled": true
   },
   "outputs": [
    {
     "data": {
      "text/plain": [
       "(3054348, 22)"
      ]
     },
     "execution_count": 4,
     "metadata": {},
     "output_type": "execute_result"
    }
   ],
   "source": [
    "df.shape"
   ]
  },
  {
   "cell_type": "code",
   "execution_count": 5,
   "id": "60540f35",
   "metadata": {},
   "outputs": [],
   "source": [
    "df1 = df.sample(1000000)"
   ]
  },
  {
   "cell_type": "code",
   "execution_count": 6,
   "id": "712ee862",
   "metadata": {},
   "outputs": [
    {
     "data": {
      "text/html": [
       "<div>\n",
       "<style scoped>\n",
       "    .dataframe tbody tr th:only-of-type {\n",
       "        vertical-align: middle;\n",
       "    }\n",
       "\n",
       "    .dataframe tbody tr th {\n",
       "        vertical-align: top;\n",
       "    }\n",
       "\n",
       "    .dataframe thead th {\n",
       "        text-align: right;\n",
       "    }\n",
       "</style>\n",
       "<table border=\"1\" class=\"dataframe\">\n",
       "  <thead>\n",
       "    <tr style=\"text-align: right;\">\n",
       "      <th></th>\n",
       "      <th>Unnamed: 0</th>\n",
       "      <th>date</th>\n",
       "      <th>store_nbr</th>\n",
       "      <th>family</th>\n",
       "      <th>sales</th>\n",
       "      <th>onpromotion</th>\n",
       "      <th>holiday_type</th>\n",
       "      <th>locale</th>\n",
       "      <th>locale_name</th>\n",
       "      <th>description</th>\n",
       "      <th>...</th>\n",
       "      <th>city</th>\n",
       "      <th>state</th>\n",
       "      <th>store_type</th>\n",
       "      <th>cluster</th>\n",
       "      <th>transactions</th>\n",
       "      <th>year</th>\n",
       "      <th>month</th>\n",
       "      <th>week</th>\n",
       "      <th>quarter</th>\n",
       "      <th>day_of_week</th>\n",
       "    </tr>\n",
       "  </thead>\n",
       "  <tbody>\n",
       "    <tr>\n",
       "      <th>0</th>\n",
       "      <td>2221066</td>\n",
       "      <td>2016-05-14</td>\n",
       "      <td>29</td>\n",
       "      <td>BABY CARE</td>\n",
       "      <td>0.000</td>\n",
       "      <td>0</td>\n",
       "      <td>Event</td>\n",
       "      <td>National</td>\n",
       "      <td>Ecuador</td>\n",
       "      <td>Terremoto Manabi+28</td>\n",
       "      <td>...</td>\n",
       "      <td>Guayaquil</td>\n",
       "      <td>Guayas</td>\n",
       "      <td>E</td>\n",
       "      <td>10</td>\n",
       "      <td>1238.000000</td>\n",
       "      <td>2016</td>\n",
       "      <td>5</td>\n",
       "      <td>19</td>\n",
       "      <td>2</td>\n",
       "      <td>Saturday</td>\n",
       "    </tr>\n",
       "    <tr>\n",
       "      <th>1</th>\n",
       "      <td>1648302</td>\n",
       "      <td>2015-07-03</td>\n",
       "      <td>33</td>\n",
       "      <td>DELI</td>\n",
       "      <td>224.000</td>\n",
       "      <td>49</td>\n",
       "      <td>Holiday</td>\n",
       "      <td>Local</td>\n",
       "      <td>El Carmen</td>\n",
       "      <td>Cantonizacion de El Carmen</td>\n",
       "      <td>...</td>\n",
       "      <td>Quevedo</td>\n",
       "      <td>Los Rios</td>\n",
       "      <td>C</td>\n",
       "      <td>3</td>\n",
       "      <td>949.000000</td>\n",
       "      <td>2015</td>\n",
       "      <td>7</td>\n",
       "      <td>27</td>\n",
       "      <td>3</td>\n",
       "      <td>Friday</td>\n",
       "    </tr>\n",
       "    <tr>\n",
       "      <th>2</th>\n",
       "      <td>1709643</td>\n",
       "      <td>2015-08-06</td>\n",
       "      <td>29</td>\n",
       "      <td>GROCERY I</td>\n",
       "      <td>2590.524</td>\n",
       "      <td>2</td>\n",
       "      <td>Holiday</td>\n",
       "      <td>National</td>\n",
       "      <td>Ecuador</td>\n",
       "      <td>Carnaval</td>\n",
       "      <td>...</td>\n",
       "      <td>Guayaquil</td>\n",
       "      <td>Guayas</td>\n",
       "      <td>E</td>\n",
       "      <td>10</td>\n",
       "      <td>981.000000</td>\n",
       "      <td>2015</td>\n",
       "      <td>8</td>\n",
       "      <td>32</td>\n",
       "      <td>3</td>\n",
       "      <td>Thursday</td>\n",
       "    </tr>\n",
       "    <tr>\n",
       "      <th>3</th>\n",
       "      <td>1493065</td>\n",
       "      <td>2015-04-09</td>\n",
       "      <td>51</td>\n",
       "      <td>GROCERY II</td>\n",
       "      <td>27.000</td>\n",
       "      <td>0</td>\n",
       "      <td>Holiday</td>\n",
       "      <td>National</td>\n",
       "      <td>Ecuador</td>\n",
       "      <td>Carnaval</td>\n",
       "      <td>...</td>\n",
       "      <td>Guayaquil</td>\n",
       "      <td>Guayas</td>\n",
       "      <td>A</td>\n",
       "      <td>17</td>\n",
       "      <td>1475.000000</td>\n",
       "      <td>2015</td>\n",
       "      <td>4</td>\n",
       "      <td>15</td>\n",
       "      <td>2</td>\n",
       "      <td>Thursday</td>\n",
       "    </tr>\n",
       "    <tr>\n",
       "      <th>4</th>\n",
       "      <td>992995</td>\n",
       "      <td>2014-07-04</td>\n",
       "      <td>20</td>\n",
       "      <td>PERSONAL CARE</td>\n",
       "      <td>0.000</td>\n",
       "      <td>0</td>\n",
       "      <td>Event</td>\n",
       "      <td>National</td>\n",
       "      <td>Ecuador</td>\n",
       "      <td>Mundial de futbol Brasil: Cuartos de Final</td>\n",
       "      <td>...</td>\n",
       "      <td>Quito</td>\n",
       "      <td>Pichincha</td>\n",
       "      <td>B</td>\n",
       "      <td>6</td>\n",
       "      <td>1697.071441</td>\n",
       "      <td>2014</td>\n",
       "      <td>7</td>\n",
       "      <td>27</td>\n",
       "      <td>3</td>\n",
       "      <td>Friday</td>\n",
       "    </tr>\n",
       "    <tr>\n",
       "      <th>...</th>\n",
       "      <td>...</td>\n",
       "      <td>...</td>\n",
       "      <td>...</td>\n",
       "      <td>...</td>\n",
       "      <td>...</td>\n",
       "      <td>...</td>\n",
       "      <td>...</td>\n",
       "      <td>...</td>\n",
       "      <td>...</td>\n",
       "      <td>...</td>\n",
       "      <td>...</td>\n",
       "      <td>...</td>\n",
       "      <td>...</td>\n",
       "      <td>...</td>\n",
       "      <td>...</td>\n",
       "      <td>...</td>\n",
       "      <td>...</td>\n",
       "      <td>...</td>\n",
       "      <td>...</td>\n",
       "      <td>...</td>\n",
       "      <td>...</td>\n",
       "    </tr>\n",
       "    <tr>\n",
       "      <th>999995</th>\n",
       "      <td>1458245</td>\n",
       "      <td>2015-03-21</td>\n",
       "      <td>25</td>\n",
       "      <td>DAIRY</td>\n",
       "      <td>878.000</td>\n",
       "      <td>0</td>\n",
       "      <td>Holiday</td>\n",
       "      <td>National</td>\n",
       "      <td>Ecuador</td>\n",
       "      <td>Carnaval</td>\n",
       "      <td>...</td>\n",
       "      <td>Salinas</td>\n",
       "      <td>Santa Elena</td>\n",
       "      <td>D</td>\n",
       "      <td>1</td>\n",
       "      <td>1712.000000</td>\n",
       "      <td>2015</td>\n",
       "      <td>3</td>\n",
       "      <td>12</td>\n",
       "      <td>1</td>\n",
       "      <td>Saturday</td>\n",
       "    </tr>\n",
       "    <tr>\n",
       "      <th>999996</th>\n",
       "      <td>176502</td>\n",
       "      <td>2013-04-10</td>\n",
       "      <td>11</td>\n",
       "      <td>HOME CARE</td>\n",
       "      <td>0.000</td>\n",
       "      <td>0</td>\n",
       "      <td>Holiday</td>\n",
       "      <td>National</td>\n",
       "      <td>Ecuador</td>\n",
       "      <td>Carnaval</td>\n",
       "      <td>...</td>\n",
       "      <td>Cayambe</td>\n",
       "      <td>Pichincha</td>\n",
       "      <td>B</td>\n",
       "      <td>6</td>\n",
       "      <td>2351.000000</td>\n",
       "      <td>2013</td>\n",
       "      <td>4</td>\n",
       "      <td>15</td>\n",
       "      <td>2</td>\n",
       "      <td>Wednesday</td>\n",
       "    </tr>\n",
       "    <tr>\n",
       "      <th>999997</th>\n",
       "      <td>1790079</td>\n",
       "      <td>2015-09-20</td>\n",
       "      <td>35</td>\n",
       "      <td>PLAYERS AND ELECTRONICS</td>\n",
       "      <td>2.000</td>\n",
       "      <td>0</td>\n",
       "      <td>Holiday</td>\n",
       "      <td>National</td>\n",
       "      <td>Ecuador</td>\n",
       "      <td>Carnaval</td>\n",
       "      <td>...</td>\n",
       "      <td>Playas</td>\n",
       "      <td>Guayas</td>\n",
       "      <td>C</td>\n",
       "      <td>3</td>\n",
       "      <td>780.000000</td>\n",
       "      <td>2015</td>\n",
       "      <td>9</td>\n",
       "      <td>38</td>\n",
       "      <td>3</td>\n",
       "      <td>Sunday</td>\n",
       "    </tr>\n",
       "    <tr>\n",
       "      <th>999998</th>\n",
       "      <td>1774655</td>\n",
       "      <td>2015-09-11</td>\n",
       "      <td>52</td>\n",
       "      <td>HARDWARE</td>\n",
       "      <td>0.000</td>\n",
       "      <td>0</td>\n",
       "      <td>Holiday</td>\n",
       "      <td>National</td>\n",
       "      <td>Ecuador</td>\n",
       "      <td>Carnaval</td>\n",
       "      <td>...</td>\n",
       "      <td>Manta</td>\n",
       "      <td>Manabi</td>\n",
       "      <td>A</td>\n",
       "      <td>11</td>\n",
       "      <td>1697.071441</td>\n",
       "      <td>2015</td>\n",
       "      <td>9</td>\n",
       "      <td>37</td>\n",
       "      <td>3</td>\n",
       "      <td>Friday</td>\n",
       "    </tr>\n",
       "    <tr>\n",
       "      <th>999999</th>\n",
       "      <td>502042</td>\n",
       "      <td>2013-10-05</td>\n",
       "      <td>45</td>\n",
       "      <td>GROCERY II</td>\n",
       "      <td>107.000</td>\n",
       "      <td>0</td>\n",
       "      <td>Holiday</td>\n",
       "      <td>National</td>\n",
       "      <td>Ecuador</td>\n",
       "      <td>Carnaval</td>\n",
       "      <td>...</td>\n",
       "      <td>Quito</td>\n",
       "      <td>Pichincha</td>\n",
       "      <td>A</td>\n",
       "      <td>11</td>\n",
       "      <td>4327.000000</td>\n",
       "      <td>2013</td>\n",
       "      <td>10</td>\n",
       "      <td>40</td>\n",
       "      <td>4</td>\n",
       "      <td>Saturday</td>\n",
       "    </tr>\n",
       "  </tbody>\n",
       "</table>\n",
       "<p>1000000 rows × 22 columns</p>\n",
       "</div>"
      ],
      "text/plain": [
       "        Unnamed: 0        date  store_nbr                   family     sales  \\\n",
       "0          2221066  2016-05-14         29                BABY CARE     0.000   \n",
       "1          1648302  2015-07-03         33                     DELI   224.000   \n",
       "2          1709643  2015-08-06         29                GROCERY I  2590.524   \n",
       "3          1493065  2015-04-09         51               GROCERY II    27.000   \n",
       "4           992995  2014-07-04         20            PERSONAL CARE     0.000   \n",
       "...            ...         ...        ...                      ...       ...   \n",
       "999995     1458245  2015-03-21         25                    DAIRY   878.000   \n",
       "999996      176502  2013-04-10         11                HOME CARE     0.000   \n",
       "999997     1790079  2015-09-20         35  PLAYERS AND ELECTRONICS     2.000   \n",
       "999998     1774655  2015-09-11         52                 HARDWARE     0.000   \n",
       "999999      502042  2013-10-05         45               GROCERY II   107.000   \n",
       "\n",
       "        onpromotion holiday_type    locale locale_name  \\\n",
       "0                 0        Event  National     Ecuador   \n",
       "1                49      Holiday     Local   El Carmen   \n",
       "2                 2      Holiday  National     Ecuador   \n",
       "3                 0      Holiday  National     Ecuador   \n",
       "4                 0        Event  National     Ecuador   \n",
       "...             ...          ...       ...         ...   \n",
       "999995            0      Holiday  National     Ecuador   \n",
       "999996            0      Holiday  National     Ecuador   \n",
       "999997            0      Holiday  National     Ecuador   \n",
       "999998            0      Holiday  National     Ecuador   \n",
       "999999            0      Holiday  National     Ecuador   \n",
       "\n",
       "                                       description  ...       city  \\\n",
       "0                              Terremoto Manabi+28  ...  Guayaquil   \n",
       "1                       Cantonizacion de El Carmen  ...    Quevedo   \n",
       "2                                         Carnaval  ...  Guayaquil   \n",
       "3                                         Carnaval  ...  Guayaquil   \n",
       "4       Mundial de futbol Brasil: Cuartos de Final  ...      Quito   \n",
       "...                                            ...  ...        ...   \n",
       "999995                                    Carnaval  ...    Salinas   \n",
       "999996                                    Carnaval  ...    Cayambe   \n",
       "999997                                    Carnaval  ...     Playas   \n",
       "999998                                    Carnaval  ...      Manta   \n",
       "999999                                    Carnaval  ...      Quito   \n",
       "\n",
       "              state store_type cluster transactions  year  month  week  \\\n",
       "0            Guayas          E      10  1238.000000  2016      5    19   \n",
       "1          Los Rios          C       3   949.000000  2015      7    27   \n",
       "2            Guayas          E      10   981.000000  2015      8    32   \n",
       "3            Guayas          A      17  1475.000000  2015      4    15   \n",
       "4         Pichincha          B       6  1697.071441  2014      7    27   \n",
       "...             ...        ...     ...          ...   ...    ...   ...   \n",
       "999995  Santa Elena          D       1  1712.000000  2015      3    12   \n",
       "999996    Pichincha          B       6  2351.000000  2013      4    15   \n",
       "999997       Guayas          C       3   780.000000  2015      9    38   \n",
       "999998       Manabi          A      11  1697.071441  2015      9    37   \n",
       "999999    Pichincha          A      11  4327.000000  2013     10    40   \n",
       "\n",
       "        quarter  day_of_week  \n",
       "0             2     Saturday  \n",
       "1             3       Friday  \n",
       "2             3     Thursday  \n",
       "3             2     Thursday  \n",
       "4             3       Friday  \n",
       "...         ...          ...  \n",
       "999995        1     Saturday  \n",
       "999996        2    Wednesday  \n",
       "999997        3       Sunday  \n",
       "999998        3       Friday  \n",
       "999999        4     Saturday  \n",
       "\n",
       "[1000000 rows x 22 columns]"
      ]
     },
     "execution_count": 6,
     "metadata": {},
     "output_type": "execute_result"
    }
   ],
   "source": [
    "df1.reset_index(drop=True)"
   ]
  },
  {
   "cell_type": "code",
   "execution_count": 7,
   "id": "7f6d0651",
   "metadata": {},
   "outputs": [],
   "source": [
    "df1.to_csv(\"Final.csv\", index= False)"
   ]
  },
  {
   "cell_type": "code",
   "execution_count": 8,
   "id": "ee075336",
   "metadata": {},
   "outputs": [
    {
     "data": {
      "text/html": [
       "<div>\n",
       "<style scoped>\n",
       "    .dataframe tbody tr th:only-of-type {\n",
       "        vertical-align: middle;\n",
       "    }\n",
       "\n",
       "    .dataframe tbody tr th {\n",
       "        vertical-align: top;\n",
       "    }\n",
       "\n",
       "    .dataframe thead th {\n",
       "        text-align: right;\n",
       "    }\n",
       "</style>\n",
       "<table border=\"1\" class=\"dataframe\">\n",
       "  <thead>\n",
       "    <tr style=\"text-align: right;\">\n",
       "      <th></th>\n",
       "      <th>Unnamed: 0</th>\n",
       "      <th>date</th>\n",
       "      <th>store_nbr</th>\n",
       "      <th>family</th>\n",
       "      <th>sales</th>\n",
       "      <th>onpromotion</th>\n",
       "      <th>holiday_type</th>\n",
       "      <th>locale</th>\n",
       "      <th>locale_name</th>\n",
       "      <th>description</th>\n",
       "      <th>...</th>\n",
       "      <th>city</th>\n",
       "      <th>state</th>\n",
       "      <th>store_type</th>\n",
       "      <th>cluster</th>\n",
       "      <th>transactions</th>\n",
       "      <th>year</th>\n",
       "      <th>month</th>\n",
       "      <th>week</th>\n",
       "      <th>quarter</th>\n",
       "      <th>day_of_week</th>\n",
       "    </tr>\n",
       "  </thead>\n",
       "  <tbody>\n",
       "    <tr>\n",
       "      <th>2221066</th>\n",
       "      <td>2221066</td>\n",
       "      <td>2016-05-14</td>\n",
       "      <td>29</td>\n",
       "      <td>BABY CARE</td>\n",
       "      <td>0.000</td>\n",
       "      <td>0</td>\n",
       "      <td>Event</td>\n",
       "      <td>National</td>\n",
       "      <td>Ecuador</td>\n",
       "      <td>Terremoto Manabi+28</td>\n",
       "      <td>...</td>\n",
       "      <td>Guayaquil</td>\n",
       "      <td>Guayas</td>\n",
       "      <td>E</td>\n",
       "      <td>10</td>\n",
       "      <td>1238.000000</td>\n",
       "      <td>2016</td>\n",
       "      <td>5</td>\n",
       "      <td>19</td>\n",
       "      <td>2</td>\n",
       "      <td>Saturday</td>\n",
       "    </tr>\n",
       "    <tr>\n",
       "      <th>1648302</th>\n",
       "      <td>1648302</td>\n",
       "      <td>2015-07-03</td>\n",
       "      <td>33</td>\n",
       "      <td>DELI</td>\n",
       "      <td>224.000</td>\n",
       "      <td>49</td>\n",
       "      <td>Holiday</td>\n",
       "      <td>Local</td>\n",
       "      <td>El Carmen</td>\n",
       "      <td>Cantonizacion de El Carmen</td>\n",
       "      <td>...</td>\n",
       "      <td>Quevedo</td>\n",
       "      <td>Los Rios</td>\n",
       "      <td>C</td>\n",
       "      <td>3</td>\n",
       "      <td>949.000000</td>\n",
       "      <td>2015</td>\n",
       "      <td>7</td>\n",
       "      <td>27</td>\n",
       "      <td>3</td>\n",
       "      <td>Friday</td>\n",
       "    </tr>\n",
       "    <tr>\n",
       "      <th>1709643</th>\n",
       "      <td>1709643</td>\n",
       "      <td>2015-08-06</td>\n",
       "      <td>29</td>\n",
       "      <td>GROCERY I</td>\n",
       "      <td>2590.524</td>\n",
       "      <td>2</td>\n",
       "      <td>Holiday</td>\n",
       "      <td>National</td>\n",
       "      <td>Ecuador</td>\n",
       "      <td>Carnaval</td>\n",
       "      <td>...</td>\n",
       "      <td>Guayaquil</td>\n",
       "      <td>Guayas</td>\n",
       "      <td>E</td>\n",
       "      <td>10</td>\n",
       "      <td>981.000000</td>\n",
       "      <td>2015</td>\n",
       "      <td>8</td>\n",
       "      <td>32</td>\n",
       "      <td>3</td>\n",
       "      <td>Thursday</td>\n",
       "    </tr>\n",
       "    <tr>\n",
       "      <th>1493065</th>\n",
       "      <td>1493065</td>\n",
       "      <td>2015-04-09</td>\n",
       "      <td>51</td>\n",
       "      <td>GROCERY II</td>\n",
       "      <td>27.000</td>\n",
       "      <td>0</td>\n",
       "      <td>Holiday</td>\n",
       "      <td>National</td>\n",
       "      <td>Ecuador</td>\n",
       "      <td>Carnaval</td>\n",
       "      <td>...</td>\n",
       "      <td>Guayaquil</td>\n",
       "      <td>Guayas</td>\n",
       "      <td>A</td>\n",
       "      <td>17</td>\n",
       "      <td>1475.000000</td>\n",
       "      <td>2015</td>\n",
       "      <td>4</td>\n",
       "      <td>15</td>\n",
       "      <td>2</td>\n",
       "      <td>Thursday</td>\n",
       "    </tr>\n",
       "    <tr>\n",
       "      <th>992995</th>\n",
       "      <td>992995</td>\n",
       "      <td>2014-07-04</td>\n",
       "      <td>20</td>\n",
       "      <td>PERSONAL CARE</td>\n",
       "      <td>0.000</td>\n",
       "      <td>0</td>\n",
       "      <td>Event</td>\n",
       "      <td>National</td>\n",
       "      <td>Ecuador</td>\n",
       "      <td>Mundial de futbol Brasil: Cuartos de Final</td>\n",
       "      <td>...</td>\n",
       "      <td>Quito</td>\n",
       "      <td>Pichincha</td>\n",
       "      <td>B</td>\n",
       "      <td>6</td>\n",
       "      <td>1697.071441</td>\n",
       "      <td>2014</td>\n",
       "      <td>7</td>\n",
       "      <td>27</td>\n",
       "      <td>3</td>\n",
       "      <td>Friday</td>\n",
       "    </tr>\n",
       "    <tr>\n",
       "      <th>...</th>\n",
       "      <td>...</td>\n",
       "      <td>...</td>\n",
       "      <td>...</td>\n",
       "      <td>...</td>\n",
       "      <td>...</td>\n",
       "      <td>...</td>\n",
       "      <td>...</td>\n",
       "      <td>...</td>\n",
       "      <td>...</td>\n",
       "      <td>...</td>\n",
       "      <td>...</td>\n",
       "      <td>...</td>\n",
       "      <td>...</td>\n",
       "      <td>...</td>\n",
       "      <td>...</td>\n",
       "      <td>...</td>\n",
       "      <td>...</td>\n",
       "      <td>...</td>\n",
       "      <td>...</td>\n",
       "      <td>...</td>\n",
       "      <td>...</td>\n",
       "    </tr>\n",
       "    <tr>\n",
       "      <th>1458245</th>\n",
       "      <td>1458245</td>\n",
       "      <td>2015-03-21</td>\n",
       "      <td>25</td>\n",
       "      <td>DAIRY</td>\n",
       "      <td>878.000</td>\n",
       "      <td>0</td>\n",
       "      <td>Holiday</td>\n",
       "      <td>National</td>\n",
       "      <td>Ecuador</td>\n",
       "      <td>Carnaval</td>\n",
       "      <td>...</td>\n",
       "      <td>Salinas</td>\n",
       "      <td>Santa Elena</td>\n",
       "      <td>D</td>\n",
       "      <td>1</td>\n",
       "      <td>1712.000000</td>\n",
       "      <td>2015</td>\n",
       "      <td>3</td>\n",
       "      <td>12</td>\n",
       "      <td>1</td>\n",
       "      <td>Saturday</td>\n",
       "    </tr>\n",
       "    <tr>\n",
       "      <th>176502</th>\n",
       "      <td>176502</td>\n",
       "      <td>2013-04-10</td>\n",
       "      <td>11</td>\n",
       "      <td>HOME CARE</td>\n",
       "      <td>0.000</td>\n",
       "      <td>0</td>\n",
       "      <td>Holiday</td>\n",
       "      <td>National</td>\n",
       "      <td>Ecuador</td>\n",
       "      <td>Carnaval</td>\n",
       "      <td>...</td>\n",
       "      <td>Cayambe</td>\n",
       "      <td>Pichincha</td>\n",
       "      <td>B</td>\n",
       "      <td>6</td>\n",
       "      <td>2351.000000</td>\n",
       "      <td>2013</td>\n",
       "      <td>4</td>\n",
       "      <td>15</td>\n",
       "      <td>2</td>\n",
       "      <td>Wednesday</td>\n",
       "    </tr>\n",
       "    <tr>\n",
       "      <th>1790079</th>\n",
       "      <td>1790079</td>\n",
       "      <td>2015-09-20</td>\n",
       "      <td>35</td>\n",
       "      <td>PLAYERS AND ELECTRONICS</td>\n",
       "      <td>2.000</td>\n",
       "      <td>0</td>\n",
       "      <td>Holiday</td>\n",
       "      <td>National</td>\n",
       "      <td>Ecuador</td>\n",
       "      <td>Carnaval</td>\n",
       "      <td>...</td>\n",
       "      <td>Playas</td>\n",
       "      <td>Guayas</td>\n",
       "      <td>C</td>\n",
       "      <td>3</td>\n",
       "      <td>780.000000</td>\n",
       "      <td>2015</td>\n",
       "      <td>9</td>\n",
       "      <td>38</td>\n",
       "      <td>3</td>\n",
       "      <td>Sunday</td>\n",
       "    </tr>\n",
       "    <tr>\n",
       "      <th>1774655</th>\n",
       "      <td>1774655</td>\n",
       "      <td>2015-09-11</td>\n",
       "      <td>52</td>\n",
       "      <td>HARDWARE</td>\n",
       "      <td>0.000</td>\n",
       "      <td>0</td>\n",
       "      <td>Holiday</td>\n",
       "      <td>National</td>\n",
       "      <td>Ecuador</td>\n",
       "      <td>Carnaval</td>\n",
       "      <td>...</td>\n",
       "      <td>Manta</td>\n",
       "      <td>Manabi</td>\n",
       "      <td>A</td>\n",
       "      <td>11</td>\n",
       "      <td>1697.071441</td>\n",
       "      <td>2015</td>\n",
       "      <td>9</td>\n",
       "      <td>37</td>\n",
       "      <td>3</td>\n",
       "      <td>Friday</td>\n",
       "    </tr>\n",
       "    <tr>\n",
       "      <th>502042</th>\n",
       "      <td>502042</td>\n",
       "      <td>2013-10-05</td>\n",
       "      <td>45</td>\n",
       "      <td>GROCERY II</td>\n",
       "      <td>107.000</td>\n",
       "      <td>0</td>\n",
       "      <td>Holiday</td>\n",
       "      <td>National</td>\n",
       "      <td>Ecuador</td>\n",
       "      <td>Carnaval</td>\n",
       "      <td>...</td>\n",
       "      <td>Quito</td>\n",
       "      <td>Pichincha</td>\n",
       "      <td>A</td>\n",
       "      <td>11</td>\n",
       "      <td>4327.000000</td>\n",
       "      <td>2013</td>\n",
       "      <td>10</td>\n",
       "      <td>40</td>\n",
       "      <td>4</td>\n",
       "      <td>Saturday</td>\n",
       "    </tr>\n",
       "  </tbody>\n",
       "</table>\n",
       "<p>1000000 rows × 22 columns</p>\n",
       "</div>"
      ],
      "text/plain": [
       "         Unnamed: 0        date  store_nbr                   family     sales  \\\n",
       "2221066     2221066  2016-05-14         29                BABY CARE     0.000   \n",
       "1648302     1648302  2015-07-03         33                     DELI   224.000   \n",
       "1709643     1709643  2015-08-06         29                GROCERY I  2590.524   \n",
       "1493065     1493065  2015-04-09         51               GROCERY II    27.000   \n",
       "992995       992995  2014-07-04         20            PERSONAL CARE     0.000   \n",
       "...             ...         ...        ...                      ...       ...   \n",
       "1458245     1458245  2015-03-21         25                    DAIRY   878.000   \n",
       "176502       176502  2013-04-10         11                HOME CARE     0.000   \n",
       "1790079     1790079  2015-09-20         35  PLAYERS AND ELECTRONICS     2.000   \n",
       "1774655     1774655  2015-09-11         52                 HARDWARE     0.000   \n",
       "502042       502042  2013-10-05         45               GROCERY II   107.000   \n",
       "\n",
       "         onpromotion holiday_type    locale locale_name  \\\n",
       "2221066            0        Event  National     Ecuador   \n",
       "1648302           49      Holiday     Local   El Carmen   \n",
       "1709643            2      Holiday  National     Ecuador   \n",
       "1493065            0      Holiday  National     Ecuador   \n",
       "992995             0        Event  National     Ecuador   \n",
       "...              ...          ...       ...         ...   \n",
       "1458245            0      Holiday  National     Ecuador   \n",
       "176502             0      Holiday  National     Ecuador   \n",
       "1790079            0      Holiday  National     Ecuador   \n",
       "1774655            0      Holiday  National     Ecuador   \n",
       "502042             0      Holiday  National     Ecuador   \n",
       "\n",
       "                                        description  ...       city  \\\n",
       "2221066                         Terremoto Manabi+28  ...  Guayaquil   \n",
       "1648302                  Cantonizacion de El Carmen  ...    Quevedo   \n",
       "1709643                                    Carnaval  ...  Guayaquil   \n",
       "1493065                                    Carnaval  ...  Guayaquil   \n",
       "992995   Mundial de futbol Brasil: Cuartos de Final  ...      Quito   \n",
       "...                                             ...  ...        ...   \n",
       "1458245                                    Carnaval  ...    Salinas   \n",
       "176502                                     Carnaval  ...    Cayambe   \n",
       "1790079                                    Carnaval  ...     Playas   \n",
       "1774655                                    Carnaval  ...      Manta   \n",
       "502042                                     Carnaval  ...      Quito   \n",
       "\n",
       "               state store_type cluster transactions  year  month  week  \\\n",
       "2221066       Guayas          E      10  1238.000000  2016      5    19   \n",
       "1648302     Los Rios          C       3   949.000000  2015      7    27   \n",
       "1709643       Guayas          E      10   981.000000  2015      8    32   \n",
       "1493065       Guayas          A      17  1475.000000  2015      4    15   \n",
       "992995     Pichincha          B       6  1697.071441  2014      7    27   \n",
       "...              ...        ...     ...          ...   ...    ...   ...   \n",
       "1458245  Santa Elena          D       1  1712.000000  2015      3    12   \n",
       "176502     Pichincha          B       6  2351.000000  2013      4    15   \n",
       "1790079       Guayas          C       3   780.000000  2015      9    38   \n",
       "1774655       Manabi          A      11  1697.071441  2015      9    37   \n",
       "502042     Pichincha          A      11  4327.000000  2013     10    40   \n",
       "\n",
       "         quarter  day_of_week  \n",
       "2221066        2     Saturday  \n",
       "1648302        3       Friday  \n",
       "1709643        3     Thursday  \n",
       "1493065        2     Thursday  \n",
       "992995         3       Friday  \n",
       "...          ...          ...  \n",
       "1458245        1     Saturday  \n",
       "176502         2    Wednesday  \n",
       "1790079        3       Sunday  \n",
       "1774655        3       Friday  \n",
       "502042         4     Saturday  \n",
       "\n",
       "[1000000 rows x 22 columns]"
      ]
     },
     "execution_count": 8,
     "metadata": {},
     "output_type": "execute_result"
    }
   ],
   "source": [
    "df1"
   ]
  },
  {
   "cell_type": "code",
   "execution_count": 9,
   "id": "fb677f08",
   "metadata": {},
   "outputs": [
    {
     "data": {
      "text/plain": [
       "Unnamed: 0      0\n",
       "date            0\n",
       "store_nbr       0\n",
       "family          0\n",
       "sales           0\n",
       "onpromotion     0\n",
       "holiday_type    0\n",
       "locale          0\n",
       "locale_name     0\n",
       "description     0\n",
       "transferred     0\n",
       "oil_price       0\n",
       "city            0\n",
       "state           0\n",
       "store_type      0\n",
       "cluster         0\n",
       "transactions    0\n",
       "year            0\n",
       "month           0\n",
       "week            0\n",
       "quarter         0\n",
       "day_of_week     0\n",
       "dtype: int64"
      ]
     },
     "execution_count": 9,
     "metadata": {},
     "output_type": "execute_result"
    }
   ],
   "source": [
    "df1.isnull().sum()"
   ]
  },
  {
   "cell_type": "code",
   "execution_count": 10,
   "id": "3970ae55",
   "metadata": {},
   "outputs": [],
   "source": [
    "df[\"date\"] = pd.to_datetime(df['date'])"
   ]
  },
  {
   "cell_type": "code",
   "execution_count": 11,
   "id": "177e07f0",
   "metadata": {},
   "outputs": [],
   "source": [
    "fe_drop = ['Unnamed: 0','locale', 'locale_name', 'description', 'transferred','city', 'state','year', 'month', 'week', 'quarter', 'day_of_week']\n",
    "df = df.drop(columns=fe_drop)"
   ]
  },
  {
   "cell_type": "code",
   "execution_count": 12,
   "id": "59fdd8e6",
   "metadata": {},
   "outputs": [
    {
     "data": {
      "text/html": [
       "<div>\n",
       "<style scoped>\n",
       "    .dataframe tbody tr th:only-of-type {\n",
       "        vertical-align: middle;\n",
       "    }\n",
       "\n",
       "    .dataframe tbody tr th {\n",
       "        vertical-align: top;\n",
       "    }\n",
       "\n",
       "    .dataframe thead th {\n",
       "        text-align: right;\n",
       "    }\n",
       "</style>\n",
       "<table border=\"1\" class=\"dataframe\">\n",
       "  <thead>\n",
       "    <tr style=\"text-align: right;\">\n",
       "      <th></th>\n",
       "      <th>date</th>\n",
       "      <th>store_nbr</th>\n",
       "      <th>family</th>\n",
       "      <th>sales</th>\n",
       "      <th>onpromotion</th>\n",
       "      <th>holiday_type</th>\n",
       "      <th>oil_price</th>\n",
       "      <th>store_type</th>\n",
       "      <th>cluster</th>\n",
       "      <th>transactions</th>\n",
       "    </tr>\n",
       "  </thead>\n",
       "  <tbody>\n",
       "    <tr>\n",
       "      <th>0</th>\n",
       "      <td>2013-01-01</td>\n",
       "      <td>1</td>\n",
       "      <td>AUTOMOTIVE</td>\n",
       "      <td>0.0</td>\n",
       "      <td>0</td>\n",
       "      <td>Holiday</td>\n",
       "      <td>93.14</td>\n",
       "      <td>D</td>\n",
       "      <td>13</td>\n",
       "      <td>1697.071441</td>\n",
       "    </tr>\n",
       "    <tr>\n",
       "      <th>1</th>\n",
       "      <td>2013-01-01</td>\n",
       "      <td>1</td>\n",
       "      <td>BABY CARE</td>\n",
       "      <td>0.0</td>\n",
       "      <td>0</td>\n",
       "      <td>Holiday</td>\n",
       "      <td>93.14</td>\n",
       "      <td>D</td>\n",
       "      <td>13</td>\n",
       "      <td>1697.071441</td>\n",
       "    </tr>\n",
       "    <tr>\n",
       "      <th>2</th>\n",
       "      <td>2013-01-01</td>\n",
       "      <td>1</td>\n",
       "      <td>BEAUTY</td>\n",
       "      <td>0.0</td>\n",
       "      <td>0</td>\n",
       "      <td>Holiday</td>\n",
       "      <td>93.14</td>\n",
       "      <td>D</td>\n",
       "      <td>13</td>\n",
       "      <td>1697.071441</td>\n",
       "    </tr>\n",
       "    <tr>\n",
       "      <th>3</th>\n",
       "      <td>2013-01-01</td>\n",
       "      <td>1</td>\n",
       "      <td>BEVERAGES</td>\n",
       "      <td>0.0</td>\n",
       "      <td>0</td>\n",
       "      <td>Holiday</td>\n",
       "      <td>93.14</td>\n",
       "      <td>D</td>\n",
       "      <td>13</td>\n",
       "      <td>1697.071441</td>\n",
       "    </tr>\n",
       "    <tr>\n",
       "      <th>4</th>\n",
       "      <td>2013-01-01</td>\n",
       "      <td>1</td>\n",
       "      <td>BOOKS</td>\n",
       "      <td>0.0</td>\n",
       "      <td>0</td>\n",
       "      <td>Holiday</td>\n",
       "      <td>93.14</td>\n",
       "      <td>D</td>\n",
       "      <td>13</td>\n",
       "      <td>1697.071441</td>\n",
       "    </tr>\n",
       "  </tbody>\n",
       "</table>\n",
       "</div>"
      ],
      "text/plain": [
       "        date  store_nbr      family  sales  onpromotion holiday_type  \\\n",
       "0 2013-01-01          1  AUTOMOTIVE    0.0            0      Holiday   \n",
       "1 2013-01-01          1   BABY CARE    0.0            0      Holiday   \n",
       "2 2013-01-01          1      BEAUTY    0.0            0      Holiday   \n",
       "3 2013-01-01          1   BEVERAGES    0.0            0      Holiday   \n",
       "4 2013-01-01          1       BOOKS    0.0            0      Holiday   \n",
       "\n",
       "   oil_price store_type  cluster  transactions  \n",
       "0      93.14          D       13   1697.071441  \n",
       "1      93.14          D       13   1697.071441  \n",
       "2      93.14          D       13   1697.071441  \n",
       "3      93.14          D       13   1697.071441  \n",
       "4      93.14          D       13   1697.071441  "
      ]
     },
     "execution_count": 12,
     "metadata": {},
     "output_type": "execute_result"
    }
   ],
   "source": [
    "df.head()"
   ]
  },
  {
   "cell_type": "code",
   "execution_count": 13,
   "id": "aa5e0c24",
   "metadata": {},
   "outputs": [
    {
     "data": {
      "text/plain": [
       "date            0\n",
       "store_nbr       0\n",
       "family          0\n",
       "sales           0\n",
       "onpromotion     0\n",
       "holiday_type    0\n",
       "oil_price       0\n",
       "store_type      0\n",
       "cluster         0\n",
       "transactions    0\n",
       "dtype: int64"
      ]
     },
     "execution_count": 13,
     "metadata": {},
     "output_type": "execute_result"
    }
   ],
   "source": [
    "df.isna().sum()"
   ]
  },
  {
   "cell_type": "code",
   "execution_count": 14,
   "id": "85db21fc",
   "metadata": {},
   "outputs": [],
   "source": [
    "df.dropna(inplace = True)\n",
    "df.reset_index(drop = True, inplace = True)"
   ]
  },
  {
   "cell_type": "code",
   "execution_count": 15,
   "id": "89128b83",
   "metadata": {},
   "outputs": [
    {
     "data": {
      "text/html": [
       "<div>\n",
       "<style scoped>\n",
       "    .dataframe tbody tr th:only-of-type {\n",
       "        vertical-align: middle;\n",
       "    }\n",
       "\n",
       "    .dataframe tbody tr th {\n",
       "        vertical-align: top;\n",
       "    }\n",
       "\n",
       "    .dataframe thead th {\n",
       "        text-align: right;\n",
       "    }\n",
       "</style>\n",
       "<table border=\"1\" class=\"dataframe\">\n",
       "  <thead>\n",
       "    <tr style=\"text-align: right;\">\n",
       "      <th></th>\n",
       "      <th>sales</th>\n",
       "      <th>onpromotion</th>\n",
       "      <th>store_nbr</th>\n",
       "      <th>oil_price</th>\n",
       "    </tr>\n",
       "    <tr>\n",
       "      <th>date</th>\n",
       "      <th></th>\n",
       "      <th></th>\n",
       "      <th></th>\n",
       "      <th></th>\n",
       "    </tr>\n",
       "  </thead>\n",
       "  <tbody>\n",
       "    <tr>\n",
       "      <th>2013-01-01</th>\n",
       "      <td>2511.618999</td>\n",
       "      <td>0</td>\n",
       "      <td>49005</td>\n",
       "      <td>93.14</td>\n",
       "    </tr>\n",
       "    <tr>\n",
       "      <th>2013-01-02</th>\n",
       "      <td>496092.417944</td>\n",
       "      <td>0</td>\n",
       "      <td>49005</td>\n",
       "      <td>93.14</td>\n",
       "    </tr>\n",
       "    <tr>\n",
       "      <th>2013-01-03</th>\n",
       "      <td>361461.231124</td>\n",
       "      <td>0</td>\n",
       "      <td>49005</td>\n",
       "      <td>92.97</td>\n",
       "    </tr>\n",
       "    <tr>\n",
       "      <th>2013-01-04</th>\n",
       "      <td>354459.677093</td>\n",
       "      <td>0</td>\n",
       "      <td>49005</td>\n",
       "      <td>93.12</td>\n",
       "    </tr>\n",
       "    <tr>\n",
       "      <th>2013-01-05</th>\n",
       "      <td>477350.121229</td>\n",
       "      <td>0</td>\n",
       "      <td>49005</td>\n",
       "      <td>93.12</td>\n",
       "    </tr>\n",
       "  </tbody>\n",
       "</table>\n",
       "</div>"
      ],
      "text/plain": [
       "                    sales  onpromotion  store_nbr  oil_price\n",
       "date                                                        \n",
       "2013-01-01    2511.618999            0      49005      93.14\n",
       "2013-01-02  496092.417944            0      49005      93.14\n",
       "2013-01-03  361461.231124            0      49005      92.97\n",
       "2013-01-04  354459.677093            0      49005      93.12\n",
       "2013-01-05  477350.121229            0      49005      93.12"
      ]
     },
     "execution_count": 15,
     "metadata": {},
     "output_type": "execute_result"
    }
   ],
   "source": [
    "everyday_sales = df.groupby('date')[['sales', 'holiday_type', 'onpromotion','store_type','store_nbr']].sum()\n",
    "everyday_sales['oil_price'] = df.groupby('date')['oil_price'].mean()\n",
    "everyday_sales.head()"
   ]
  },
  {
   "cell_type": "code",
   "execution_count": 16,
   "id": "afb53844",
   "metadata": {},
   "outputs": [],
   "source": [
    "# Converting holiday_types in numerical\n",
    "from sklearn.preprocessing import LabelEncoder\n",
    "le = LabelEncoder()\n",
    "df['holiday_type'] = le.fit_transform(df['holiday_type'])\n",
    "df['store_type'] = le.fit_transform(df['store_type'])"
   ]
  },
  {
   "cell_type": "code",
   "execution_count": null,
   "id": "dd9c6d79",
   "metadata": {},
   "outputs": [],
   "source": [
    "\n"
   ]
  },
  {
   "cell_type": "code",
   "execution_count": null,
   "id": "e17edb1e",
   "metadata": {},
   "outputs": [],
   "source": []
  },
  {
   "cell_type": "markdown",
   "id": "1b216221",
   "metadata": {},
   "source": [
    "# Select features for FE and EDA\n",
    "**'sales', 'holiday_type', 'onpromotion','store_type','store_nbr'**"
   ]
  },
  {
   "cell_type": "code",
   "execution_count": 17,
   "id": "8967a914",
   "metadata": {},
   "outputs": [
    {
     "data": {
      "text/html": [
       "<div>\n",
       "<style scoped>\n",
       "    .dataframe tbody tr th:only-of-type {\n",
       "        vertical-align: middle;\n",
       "    }\n",
       "\n",
       "    .dataframe tbody tr th {\n",
       "        vertical-align: top;\n",
       "    }\n",
       "\n",
       "    .dataframe thead th {\n",
       "        text-align: right;\n",
       "    }\n",
       "</style>\n",
       "<table border=\"1\" class=\"dataframe\">\n",
       "  <thead>\n",
       "    <tr style=\"text-align: right;\">\n",
       "      <th></th>\n",
       "      <th>sales</th>\n",
       "      <th>holiday_type</th>\n",
       "      <th>onpromotion</th>\n",
       "      <th>store_type</th>\n",
       "      <th>store_nbr</th>\n",
       "      <th>oil_price</th>\n",
       "    </tr>\n",
       "    <tr>\n",
       "      <th>date</th>\n",
       "      <th></th>\n",
       "      <th></th>\n",
       "      <th></th>\n",
       "      <th></th>\n",
       "      <th></th>\n",
       "      <th></th>\n",
       "    </tr>\n",
       "  </thead>\n",
       "  <tbody>\n",
       "    <tr>\n",
       "      <th>2013-01-01</th>\n",
       "      <td>2511.618999</td>\n",
       "      <td>5346</td>\n",
       "      <td>0</td>\n",
       "      <td>3564</td>\n",
       "      <td>49005</td>\n",
       "      <td>93.14</td>\n",
       "    </tr>\n",
       "    <tr>\n",
       "      <th>2013-01-02</th>\n",
       "      <td>496092.417944</td>\n",
       "      <td>5346</td>\n",
       "      <td>0</td>\n",
       "      <td>3564</td>\n",
       "      <td>49005</td>\n",
       "      <td>93.14</td>\n",
       "    </tr>\n",
       "    <tr>\n",
       "      <th>2013-01-03</th>\n",
       "      <td>361461.231124</td>\n",
       "      <td>5346</td>\n",
       "      <td>0</td>\n",
       "      <td>3564</td>\n",
       "      <td>49005</td>\n",
       "      <td>92.97</td>\n",
       "    </tr>\n",
       "    <tr>\n",
       "      <th>2013-01-04</th>\n",
       "      <td>354459.677093</td>\n",
       "      <td>5346</td>\n",
       "      <td>0</td>\n",
       "      <td>3564</td>\n",
       "      <td>49005</td>\n",
       "      <td>93.12</td>\n",
       "    </tr>\n",
       "    <tr>\n",
       "      <th>2013-01-05</th>\n",
       "      <td>477350.121229</td>\n",
       "      <td>8910</td>\n",
       "      <td>0</td>\n",
       "      <td>3564</td>\n",
       "      <td>49005</td>\n",
       "      <td>93.12</td>\n",
       "    </tr>\n",
       "  </tbody>\n",
       "</table>\n",
       "</div>"
      ],
      "text/plain": [
       "                    sales  holiday_type  onpromotion  store_type  store_nbr  \\\n",
       "date                                                                          \n",
       "2013-01-01    2511.618999          5346            0        3564      49005   \n",
       "2013-01-02  496092.417944          5346            0        3564      49005   \n",
       "2013-01-03  361461.231124          5346            0        3564      49005   \n",
       "2013-01-04  354459.677093          5346            0        3564      49005   \n",
       "2013-01-05  477350.121229          8910            0        3564      49005   \n",
       "\n",
       "            oil_price  \n",
       "date                   \n",
       "2013-01-01      93.14  \n",
       "2013-01-02      93.14  \n",
       "2013-01-03      92.97  \n",
       "2013-01-04      93.12  \n",
       "2013-01-05      93.12  "
      ]
     },
     "execution_count": 17,
     "metadata": {},
     "output_type": "execute_result"
    }
   ],
   "source": [
    "daily_sales = df.groupby('date')[['sales', 'holiday_type', 'onpromotion','store_type','store_nbr']].sum()\n",
    "daily_sales['oil_price'] = df.groupby('date')['oil_price'].mean()\n",
    "daily_sales.head()"
   ]
  },
  {
   "cell_type": "code",
   "execution_count": 18,
   "id": "dc27cd04",
   "metadata": {},
   "outputs": [
    {
     "data": {
      "text/plain": [
       "<AxesSubplot:>"
      ]
     },
     "execution_count": 18,
     "metadata": {},
     "output_type": "execute_result"
    },
    {
     "data": {
      "image/png": "[encoded data removed]",
      "text/plain": [
       "<Figure size 432x288 with 2 Axes>"
      ]
     },
     "metadata": {
      "needs_background": "light"
     },
     "output_type": "display_data"
    }
   ],
   "source": [
    "# Create a heat map\n",
    "correlation_matrix = daily_sales.corr()\n",
    "\n",
    "# Create a heat map of the correlation matrix\n",
    "sns.heatmap(correlation_matrix, cmap='Blues', annot=True, fmt=\".2f\")"
   ]
  },
  {
   "cell_type": "code",
   "execution_count": 19,
   "id": "1d2840b2",
   "metadata": {},
   "outputs": [
    {
     "data": {
      "text/html": [
       "<div>\n",
       "<style scoped>\n",
       "    .dataframe tbody tr th:only-of-type {\n",
       "        vertical-align: middle;\n",
       "    }\n",
       "\n",
       "    .dataframe tbody tr th {\n",
       "        vertical-align: top;\n",
       "    }\n",
       "\n",
       "    .dataframe thead th {\n",
       "        text-align: right;\n",
       "    }\n",
       "</style>\n",
       "<table border=\"1\" class=\"dataframe\">\n",
       "  <thead>\n",
       "    <tr style=\"text-align: right;\">\n",
       "      <th></th>\n",
       "      <th>sales</th>\n",
       "      <th>holiday_type</th>\n",
       "      <th>onpromotion</th>\n",
       "      <th>store_type</th>\n",
       "      <th>store_nbr</th>\n",
       "      <th>oil_price</th>\n",
       "    </tr>\n",
       "    <tr>\n",
       "      <th>date</th>\n",
       "      <th></th>\n",
       "      <th></th>\n",
       "      <th></th>\n",
       "      <th></th>\n",
       "      <th></th>\n",
       "      <th></th>\n",
       "    </tr>\n",
       "  </thead>\n",
       "  <tbody>\n",
       "    <tr>\n",
       "      <th>2013-01-31</th>\n",
       "      <td>1.032762e+07</td>\n",
       "      <td>172854</td>\n",
       "      <td>0</td>\n",
       "      <td>110484</td>\n",
       "      <td>1519155</td>\n",
       "      <td>2933.60</td>\n",
       "    </tr>\n",
       "    <tr>\n",
       "      <th>2013-02-28</th>\n",
       "      <td>9.658960e+06</td>\n",
       "      <td>149688</td>\n",
       "      <td>0</td>\n",
       "      <td>99792</td>\n",
       "      <td>1372140</td>\n",
       "      <td>2671.30</td>\n",
       "    </tr>\n",
       "    <tr>\n",
       "      <th>2013-03-31</th>\n",
       "      <td>1.142850e+07</td>\n",
       "      <td>165726</td>\n",
       "      <td>0</td>\n",
       "      <td>110484</td>\n",
       "      <td>1519155</td>\n",
       "      <td>2889.73</td>\n",
       "    </tr>\n",
       "    <tr>\n",
       "      <th>2013-04-30</th>\n",
       "      <td>1.099346e+07</td>\n",
       "      <td>160380</td>\n",
       "      <td>0</td>\n",
       "      <td>106920</td>\n",
       "      <td>1470150</td>\n",
       "      <td>2753.79</td>\n",
       "    </tr>\n",
       "    <tr>\n",
       "      <th>2013-05-31</th>\n",
       "      <td>1.198556e+07</td>\n",
       "      <td>163944</td>\n",
       "      <td>0</td>\n",
       "      <td>114048</td>\n",
       "      <td>1568160</td>\n",
       "      <td>2934.29</td>\n",
       "    </tr>\n",
       "  </tbody>\n",
       "</table>\n",
       "</div>"
      ],
      "text/plain": [
       "                   sales  holiday_type  onpromotion  store_type  store_nbr  \\\n",
       "date                                                                         \n",
       "2013-01-31  1.032762e+07        172854            0      110484    1519155   \n",
       "2013-02-28  9.658960e+06        149688            0       99792    1372140   \n",
       "2013-03-31  1.142850e+07        165726            0      110484    1519155   \n",
       "2013-04-30  1.099346e+07        160380            0      106920    1470150   \n",
       "2013-05-31  1.198556e+07        163944            0      114048    1568160   \n",
       "\n",
       "            oil_price  \n",
       "date                   \n",
       "2013-01-31    2933.60  \n",
       "2013-02-28    2671.30  \n",
       "2013-03-31    2889.73  \n",
       "2013-04-30    2753.79  \n",
       "2013-05-31    2934.29  "
      ]
     },
     "execution_count": 19,
     "metadata": {},
     "output_type": "execute_result"
    }
   ],
   "source": [
    "monthly_sales = daily_sales.resample('M').sum()\n",
    "monthly_sales.head()"
   ]
  },
  {
   "cell_type": "code",
   "execution_count": 20,
   "id": "345fbded",
   "metadata": {},
   "outputs": [
    {
     "data": {
      "text/plain": [
       "[<matplotlib.lines.Line2D at 0x1cae0b9df40>]"
      ]
     },
     "execution_count": 20,
     "metadata": {},
     "output_type": "execute_result"
    },
    {
     "data": {
      "image/png": "[encoded data removed]",
      "text/plain": [
       "<Figure size 432x288 with 2 Axes>"
      ]
     },
     "metadata": {
      "needs_background": "light"
     },
     "output_type": "display_data"
    }
   ],
   "source": [
    "fig, axes = plt.subplots(2,1)\n",
    "axes[0].plot(daily_sales['sales'])\n",
    "axes[1].plot(monthly_sales['sales'])"
   ]
  },
  {
   "cell_type": "code",
   "execution_count": 21,
   "id": "b95ef8da",
   "metadata": {},
   "outputs": [
    {
     "data": {
      "image/png": "[encoded data removed]",
      "text/plain": [
       "<Figure size 504x648 with 2 Axes>"
      ]
     },
     "metadata": {
      "needs_background": "light"
     },
     "output_type": "display_data"
    }
   ],
   "source": [
    "\n",
    "# violinplot of days of week and month to determine variance and range\n",
    "\n",
    "days_of_week = daily_sales.index.day_name()\n",
    "\n",
    "fig,axes = plt.subplots(2,1,figsize = (7, 9))\n",
    "sns.violinplot(x=days_of_week, y=daily_sales['sales'], ax=axes[0])\n",
    "axes[0].axhline(daily_sales['sales'].mean(), color='red', linestyle='--')\n",
    "\n",
    "sns.violinplot(x=monthly_sales.index.month, y=monthly_sales['sales'], ax = axes[1])\n",
    "axes[1].axhline(monthly_sales['sales'].mean(), color='red', linestyle='--')\n",
    "plt.grid(True)\n",
    "plt.show()"
   ]
  },
  {
   "cell_type": "code",
   "execution_count": 22,
   "id": "b59956b9",
   "metadata": {},
   "outputs": [
    {
     "name": "stdout",
     "output_type": "stream",
     "text": [
      "ADF Statistic: -2.931646\n",
      "p-value: 0.041790\n",
      "Critical Values:\n",
      "\t1%: -3.434\n",
      "\t5%: -2.863\n",
      "\t10%: -2.568\n"
     ]
    }
   ],
   "source": [
    "from statsmodels.tsa.stattools import adfuller\n",
    "ts = daily_sales['sales']\n",
    "# assuming your time series data is stored in a variable called 'ts'\n",
    "result = adfuller(ts)\n",
    "\n",
    "print('ADF Statistic: %f' % result[0])\n",
    "print('p-value: %f' % result[1])\n",
    "print('Critical Values:')\n",
    "for key, value in result[4].items():\n",
    "    print('\\t%s: %.3f' % (key, value))"
   ]
  },
  {
   "cell_type": "code",
   "execution_count": 23,
   "id": "8cc8c25f",
   "metadata": {},
   "outputs": [
    {
     "name": "stdout",
     "output_type": "stream",
     "text": [
      "ADF Statistic: -2.931646\n",
      "p-value: 0.041790\n",
      "Critical Values:\n",
      "\t1%: -3.434\n",
      "\t5%: -2.863\n",
      "\t10%: -2.568\n"
     ]
    }
   ],
   "source": [
    "from statsmodels.tsa.stattools import adfuller\n",
    "ts = everyday_sales['sales']\n",
    "# assuming your time series data is stored in a variable called 'ts'\n",
    "result = adfuller(ts)\n",
    "\n",
    "print('ADF Statistic: %f' % result[0])\n",
    "print('p-value: %f' % result[1])\n",
    "print('Critical Values:')\n",
    "for key, value in result[4].items():\n",
    "    print('\\t%s: %.3f' % (key, value))"
   ]
  },
  {
   "cell_type": "code",
   "execution_count": 24,
   "id": "633dac52",
   "metadata": {},
   "outputs": [
    {
     "data": {
      "text/plain": [
       "Text(0.5, 1.0, 'Residual Plot')"
      ]
     },
     "execution_count": 24,
     "metadata": {},
     "output_type": "execute_result"
    },
    {
     "data": {
      "image/png": "[encoded data removed]",
      "text/plain": [
       "<Figure size 720x1440 with 4 Axes>"
      ]
     },
     "metadata": {
      "needs_background": "light"
     },
     "output_type": "display_data"
    }
   ],
   "source": [
    "from statsmodels.tsa.seasonal import seasonal_decompose\n",
    "\n",
    "# decompose the time series\n",
    "decomposition = seasonal_decompose(daily_sales['sales'], model='additive', period=12)\n",
    "\n",
    "# create a seasonal plot\n",
    "fig, axes = plt.subplots(nrows=4, ncols=1, figsize=(10,20))\n",
    "fig.subplots_adjust(hspace=0.5) # added space between subplots\n",
    "\n",
    "decomposition.observed.plot(ax=axes[0], legend=False)\n",
    "axes[0].set_ylabel('Observed')\n",
    "axes[0].set_title('Observed Seasonal Plot')\n",
    "\n",
    "decomposition.trend.plot(ax=axes[1], legend=False)\n",
    "axes[1].set_ylabel('Trend')\n",
    "axes[1].set_title('Trend Plot')\n",
    "\n",
    "decomposition.seasonal.plot(ax=axes[2], legend=False)\n",
    "axes[2].set_ylabel('Seasonal')\n",
    "axes[2].set_title('Seasonal Plot')\n",
    "\n",
    "decomposition.resid.plot(ax=axes[3], legend=False)\n",
    "axes[3].set_ylabel('Residual')\n",
    "axes[3].set_title('Residual Plot')"
   ]
  },
  {
   "cell_type": "code",
   "execution_count": 25,
   "id": "2b8a1599",
   "metadata": {
    "scrolled": false
   },
   "outputs": [
    {
     "data": {
      "image/png": "[encoded data removed]",
      "text/plain": [
       "<Figure size 432x288 with 1 Axes>"
      ]
     },
     "execution_count": 25,
     "metadata": {},
     "output_type": "execute_result"
    },
    {
     "data": {
      "image/png": "[encoded data removed]",
      "text/plain": [
       "<Figure size 432x288 with 1 Axes>"
      ]
     },
     "metadata": {
      "needs_background": "light"
     },
     "output_type": "display_data"
    }
   ],
   "source": [
    "plot_acf(daily_sales['sales'], alpha = 0.05)"
   ]
  },
  {
   "cell_type": "code",
   "execution_count": 26,
   "id": "fe5b3306",
   "metadata": {},
   "outputs": [
    {
     "data": {
      "image/png": "[encoded data removed]",
      "text/plain": [
       "<Figure size 432x288 with 1 Axes>"
      ]
     },
     "metadata": {
      "needs_background": "light"
     },
     "output_type": "display_data"
    }
   ],
   "source": [
    "plot_pacf(daily_sales['sales'], alpha = 0.05);"
   ]
  },
  {
   "cell_type": "markdown",
   "id": "56ea58df",
   "metadata": {},
   "source": [
    "# Using LSTM"
   ]
  },
  {
   "cell_type": "markdown",
   "id": "82dc1b83",
   "metadata": {},
   "source": [
    "# ARIMA"
   ]
  },
  {
   "cell_type": "code",
   "execution_count": 27,
   "id": "bdc81d96",
   "metadata": {},
   "outputs": [
    {
     "data": {
      "image/png": "[encoded data removed]",
      "text/plain": [
       "<Figure size 432x288 with 1 Axes>"
      ]
     },
     "execution_count": 27,
     "metadata": {},
     "output_type": "execute_result"
    },
    {
     "data": {
      "image/png": "[encoded data removed]",
      "text/plain": [
       "<Figure size 432x288 with 1 Axes>"
      ]
     },
     "metadata": {
      "needs_background": "light"
     },
     "output_type": "display_data"
    },
    {
     "data": {
      "image/png": "[encoded data removed]",
      "text/plain": [
       "<Figure size 432x288 with 1 Axes>"
      ]
     },
     "metadata": {
      "needs_background": "light"
     },
     "output_type": "display_data"
    }
   ],
   "source": [
    "import statsmodels.api as sm\n",
    "\n",
    "p = 1\n",
    "d = 1\n",
    "q = 1\n",
    "\n",
    "train_np = daily_sales['sales'].values.astype('float64')\n",
    "model = sm.tsa.ARIMA(train_np, order=(p, d, q))\n",
    "\n",
    "\n",
    "# Define the order of differencing, AR, and MA terms\n",
    "model_fit = model.fit()\n",
    "\n",
    "# Plot ACF and PACF\n",
    "plot_acf(train_np, lags=50)\n",
    "plot_pacf(train_np, lags=50)"
   ]
  },
  {
   "cell_type": "code",
   "execution_count": 28,
   "id": "d73924ce",
   "metadata": {},
   "outputs": [
    {
     "data": {
      "image/png": "[encoded data removed]",
      "text/plain": [
       "<Figure size 432x288 with 1 Axes>"
      ]
     },
     "execution_count": 28,
     "metadata": {},
     "output_type": "execute_result"
    },
    {
     "data": {
      "image/png": "[encoded data removed]",
      "text/plain": [
       "<Figure size 432x288 with 1 Axes>"
      ]
     },
     "metadata": {
      "needs_background": "light"
     },
     "output_type": "display_data"
    },
    {
     "data": {
      "image/png": "[encoded data removed]",
      "text/plain": [
       "<Figure size 432x288 with 1 Axes>"
      ]
     },
     "metadata": {
      "needs_background": "light"
     },
     "output_type": "display_data"
    }
   ],
   "source": [
    "import statsmodels.api as sm\n",
    "\n",
    "p = 1\n",
    "d = 1\n",
    "q = 1\n",
    "\n",
    "train_np = everyday_sales['sales'].values.astype('float64')\n",
    "model = sm.tsa.ARIMA(train_np, order=(p, d, q))\n",
    "\n",
    "\n",
    "# Define the order of differencing, AR, and MA terms\n",
    "model_fit = model.fit()\n",
    "\n",
    "# Plot ACF and PACF\n",
    "plot_acf(train_np, lags=50)\n",
    "plot_pacf(train_np, lags=50)"
   ]
  },
  {
   "cell_type": "code",
   "execution_count": 29,
   "id": "24021f3d",
   "metadata": {},
   "outputs": [
    {
     "name": "stdout",
     "output_type": "stream",
     "text": [
      "                               SARIMAX Results                                \n",
      "==============================================================================\n",
      "Dep. Variable:                      y   No. Observations:                 1684\n",
      "Model:                 ARIMA(1, 1, 1)   Log Likelihood              -22918.921\n",
      "Date:                Sat, 17 Jun 2023   AIC                          45843.843\n",
      "Time:                        12:00:16   BIC                          45860.128\n",
      "Sample:                             0   HQIC                         45849.875\n",
      "                               - 1684                                         \n",
      "Covariance Type:                  opg                                         \n",
      "==============================================================================\n",
      "                 coef    std err          z      P>|z|      [0.025      0.975]\n",
      "------------------------------------------------------------------------------\n",
      "ar.L1          0.3068      0.017     18.557      0.000       0.274       0.339\n",
      "ma.L1         -0.9574      0.007   -128.980      0.000      -0.972      -0.943\n",
      "sigma2      4.734e+10   9.47e-15      5e+24      0.000    4.73e+10    4.73e+10\n",
      "===================================================================================\n",
      "Ljung-Box (L1) (Q):                   2.56   Jarque-Bera (JB):             56903.03\n",
      "Prob(Q):                              0.11   Prob(JB):                         0.00\n",
      "Heteroskedasticity (H):               4.35   Skew:                             3.20\n",
      "Prob(H) (two-sided):                  0.00   Kurtosis:                        30.76\n",
      "===================================================================================\n",
      "\n",
      "Warnings:\n",
      "[1] Covariance matrix calculated using the outer product of gradients (complex-step).\n",
      "[2] Covariance matrix is singular or near-singular, with condition number 2.98e+41. Standard errors may be unstable.\n"
     ]
    }
   ],
   "source": [
    "p = 1\n",
    "d = 1\n",
    "q = 1\n",
    "\n",
    "# extract the target variable as a numpy array\n",
    "train_np = daily_sales['sales'].values.astype('float64')\n",
    "\n",
    "# fit the ARIMA model\n",
    "model = sm.tsa.ARIMA(train_np, order=(p, d, q))\n",
    "\n",
    "# train the ARIMA model\n",
    "results = model.fit()\n",
    "\n",
    "# print the summary of the trained model\n",
    "print(results.summary())"
   ]
  },
  {
   "cell_type": "code",
   "execution_count": 30,
   "id": "eac01d76",
   "metadata": {},
   "outputs": [
    {
     "name": "stdout",
     "output_type": "stream",
     "text": [
      "                               SARIMAX Results                                \n",
      "==============================================================================\n",
      "Dep. Variable:                      y   No. Observations:                 1684\n",
      "Model:                 ARIMA(1, 1, 1)   Log Likelihood              -22918.921\n",
      "Date:                Sat, 17 Jun 2023   AIC                          45843.843\n",
      "Time:                        12:00:17   BIC                          45860.128\n",
      "Sample:                             0   HQIC                         45849.875\n",
      "                               - 1684                                         \n",
      "Covariance Type:                  opg                                         \n",
      "==============================================================================\n",
      "                 coef    std err          z      P>|z|      [0.025      0.975]\n",
      "------------------------------------------------------------------------------\n",
      "ar.L1          0.3068      0.017     18.557      0.000       0.274       0.339\n",
      "ma.L1         -0.9574      0.007   -128.980      0.000      -0.972      -0.943\n",
      "sigma2      4.734e+10   9.47e-15      5e+24      0.000    4.73e+10    4.73e+10\n",
      "===================================================================================\n",
      "Ljung-Box (L1) (Q):                   2.56   Jarque-Bera (JB):             56903.03\n",
      "Prob(Q):                              0.11   Prob(JB):                         0.00\n",
      "Heteroskedasticity (H):               4.35   Skew:                             3.20\n",
      "Prob(H) (two-sided):                  0.00   Kurtosis:                        30.76\n",
      "===================================================================================\n",
      "\n",
      "Warnings:\n",
      "[1] Covariance matrix calculated using the outer product of gradients (complex-step).\n",
      "[2] Covariance matrix is singular or near-singular, with condition number 2.98e+41. Standard errors may be unstable.\n"
     ]
    }
   ],
   "source": [
    "p = 1\n",
    "d = 1\n",
    "q = 1\n",
    "\n",
    "# extract the target variable as a numpy array\n",
    "train_np = everyday_sales['sales'].values.astype('float64')\n",
    "\n",
    "# fit the ARIMA model\n",
    "model = sm.tsa.ARIMA(train_np, order=(p, d, q))\n",
    "\n",
    "# train the ARIMA model\n",
    "results1 = model.fit()\n",
    "\n",
    "# print the summary of the trained model\n",
    "print(results1.summary())"
   ]
  },
  {
   "cell_type": "code",
   "execution_count": 31,
   "id": "500fd5a8",
   "metadata": {
    "scrolled": true
   },
   "outputs": [
    {
     "name": "stdout",
     "output_type": "stream",
     "text": [
      "[825517.14006034 844798.02200399 850712.4472886  ... 853329.47791531\n",
      " 853329.47791531 853329.47791531]\n"
     ]
    }
   ],
   "source": [
    "# Make predictions\n",
    "start_idx = len(train_np)\n",
    "end_idx = len(train_np) + len(test_df) - 1\n",
    "predictions = results.predict(start=start_idx, end=end_idx)\n",
    "# Print the predictions\n",
    "print(predictions)"
   ]
  },
  {
   "cell_type": "code",
   "execution_count": 32,
   "id": "6820d4cb",
   "metadata": {},
   "outputs": [
    {
     "name": "stdout",
     "output_type": "stream",
     "text": [
      "[825517.14006034 844798.02200399 850712.4472886  ... 853329.47791531\n",
      " 853329.47791531 853329.47791531]\n"
     ]
    }
   ],
   "source": [
    "# Make predictions\n",
    "start_idx = len(train_np)\n",
    "end_idx = len(train_np) + len(test_df) - 1\n",
    "predictions1 = results1.predict(start=start_idx, end=end_idx)\n",
    "# Print the predictions\n",
    "print(predictions1)"
   ]
  },
  {
   "cell_type": "code",
   "execution_count": 33,
   "id": "2d2ac35f",
   "metadata": {},
   "outputs": [],
   "source": [
    "actual_values = daily_sales['sales']"
   ]
  },
  {
   "cell_type": "code",
   "execution_count": 34,
   "id": "d0cda62b",
   "metadata": {},
   "outputs": [
    {
     "name": "stdout",
     "output_type": "stream",
     "text": [
      "Mean Absolute Error (MAE): 280180.66436343396\n",
      "Mean Squared Error (MSE): 117210839828.21461\n",
      "Root Mean Squared Error (RMSE): 342360.6867445715\n"
     ]
    }
   ],
   "source": [
    "# Truncate or pad the predictions array to match the length of actual_values\n",
    "predictions = predictions[:len(actual_values)]\n",
    "\n",
    "# Calculate evaluation metrics\n",
    "mae = np.mean(np.abs(predictions - actual_values))\n",
    "mse = np.mean((predictions - actual_values) ** 2)\n",
    "rmse = np.sqrt(mse)\n",
    "\n",
    "# Print the evaluation metrics\n",
    "print(\"Mean Absolute Error (MAE):\", mae)\n",
    "print(\"Mean Squared Error (MSE):\", mse)\n",
    "print(\"Root Mean Squared Error (RMSE):\", rmse)"
   ]
  },
  {
   "cell_type": "code",
   "execution_count": 35,
   "id": "97d29e4e",
   "metadata": {},
   "outputs": [],
   "source": [
    "actual_values1 = everyday_sales['sales']"
   ]
  },
  {
   "cell_type": "code",
   "execution_count": 36,
   "id": "3cf9a09b",
   "metadata": {},
   "outputs": [
    {
     "name": "stdout",
     "output_type": "stream",
     "text": [
      "Mean Absolute Error (MAE): 280180.66436343396\n",
      "Mean Squared Error (MSE): 117210839828.21461\n",
      "Root Mean Squared Error (RMSE): 342360.6867445715\n"
     ]
    }
   ],
   "source": [
    "# Truncate or pad the predictions array to match the length of actual_values\n",
    "predictions1 = predictions1[:len(actual_values1)]\n",
    "\n",
    "# Calculate evaluation metrics\n",
    "mae = np.mean(np.abs(predictions1 - actual_values1))\n",
    "mse = np.mean((predictions1 - actual_values1) ** 2)\n",
    "rmse = np.sqrt(mse)\n",
    "\n",
    "# Print the evaluation metrics\n",
    "print(\"Mean Absolute Error (MAE):\", mae)\n",
    "print(\"Mean Squared Error (MSE):\", mse)\n",
    "print(\"Root Mean Squared Error (RMSE):\", rmse)"
   ]
  },
  {
   "cell_type": "code",
   "execution_count": 37,
   "id": "7d037b5b",
   "metadata": {
    "scrolled": true
   },
   "outputs": [
    {
     "name": "stdout",
     "output_type": "stream",
     "text": [
      "Autocorrelation: 0.6284657637814297\n"
     ]
    }
   ],
   "source": [
    "autocorr_values = daily_sales['sales'].autocorr()\n",
    "print(\"Autocorrelation:\", autocorr_values)"
   ]
  },
  {
   "cell_type": "code",
   "execution_count": 38,
   "id": "be62c189",
   "metadata": {},
   "outputs": [
    {
     "name": "stdout",
     "output_type": "stream",
     "text": [
      "Autocorrelation: 0.6284657637814297\n"
     ]
    }
   ],
   "source": [
    "autocorr_values = everyday_sales['sales'].autocorr()\n",
    "print(\"Autocorrelation:\", autocorr_values)"
   ]
  },
  {
   "cell_type": "code",
   "execution_count": 39,
   "id": "205f7e79",
   "metadata": {
    "scrolled": false
   },
   "outputs": [
    {
     "data": {
      "image/png": "[encoded data removed]",
      "text/plain": [
       "<Figure size 720x432 with 1 Axes>"
      ]
     },
     "metadata": {
      "needs_background": "light"
     },
     "output_type": "display_data"
    }
   ],
   "source": [
    "daily_sales['diff_sales'] = daily_sales['sales'] - daily_sales['sales'].shift(1)\n",
    "# Compute the autocorrelation\n",
    "autocorrelation = sm.tsa.acf(daily_sales['diff_sales'], nlags=20)\n",
    "\n",
    "# Plot the autocorrelation chart\n",
    "plt.figure(figsize=(10, 6))\n",
    "plt.stem(range(len(autocorrelation)), autocorrelation, use_line_collection=True)\n",
    "plt.xlabel('Lag')\n",
    "plt.ylabel('Autocorrelation')\n",
    "plt.title('Autocorrelation Chart')\n",
    "plt.show()"
   ]
  },
  {
   "cell_type": "code",
   "execution_count": 40,
   "id": "679a57b3",
   "metadata": {},
   "outputs": [
    {
     "data": {
      "image/png": "[encoded data removed]",
      "text/plain": [
       "<Figure size 720x432 with 1 Axes>"
      ]
     },
     "metadata": {
      "needs_background": "light"
     },
     "output_type": "display_data"
    }
   ],
   "source": [
    "everyday_sales['diff_sales'] = everyday_sales['sales'] - everyday_sales['sales'].shift(1)\n",
    "# Compute the autocorrelation\n",
    "autocorrelation = sm.tsa.acf(everyday_sales['diff_sales'], nlags=20)\n",
    "\n",
    "# Plot the autocorrelation chart\n",
    "plt.figure(figsize=(10, 6))\n",
    "plt.stem(range(len(autocorrelation)), autocorrelation, use_line_collection=True)\n",
    "plt.xlabel('Lag')\n",
    "plt.ylabel('Autocorrelation')\n",
    "plt.title('Autocorrelation Chart')\n",
    "plt.show()"
   ]
  },
  {
   "cell_type": "code",
   "execution_count": null,
   "id": "c648a2d6",
   "metadata": {},
   "outputs": [],
   "source": []
  },
  {
   "cell_type": "code",
   "execution_count": 41,
   "id": "73c04dca",
   "metadata": {},
   "outputs": [
    {
     "name": "stdout",
     "output_type": "stream",
     "text": [
      "Test Statistic            -2.931646\n",
      "p-value                    0.041790\n",
      "Lags Used                 23.000000\n",
      "Observations Used       1660.000000\n",
      "Critical Value (1%)       -3.434295\n",
      "Critical Value (5%)       -2.863283\n",
      "Critical Value (10%)      -2.567698\n",
      "dtype: float64\n"
     ]
    }
   ],
   "source": [
    "import statsmodels.tsa.stattools as ts\n",
    "def dftest(timeseries):\n",
    "    dftest = ts.adfuller(timeseries,) #call function adfuller \n",
    "    dfoutput = pd.Series(dftest[0:4],  \n",
    "                         index=['Test Statistic','p-value','Lags Used','Observations Used'])\n",
    "    # display first 4 values with its name\n",
    "    \n",
    "    for key,value in dftest[4].items():\n",
    "        dfoutput['Critical Value (%s)'%key] = value\n",
    "    print(dfoutput) #5th value is the CV\n",
    "    \n",
    "dftest(daily_sales.sales)"
   ]
  },
  {
   "cell_type": "code",
   "execution_count": 42,
   "id": "15866ca9",
   "metadata": {},
   "outputs": [],
   "source": [
    "# define helper plot function for visualization\n",
    "\n",
    "def plots(data, lags=None):\n",
    "    plt.figure(figsize=(15, 4))\n",
    "    layout = (1, 3)\n",
    "    raw  = plt.subplot2grid(layout, (0, 0))\n",
    "    acf  = plt.subplot2grid(layout, (0, 1))\n",
    "    pacf = plt.subplot2grid(layout, (0, 2))\n",
    "    \n",
    "    raw.plot(data)\n",
    "    plot_acf(data, lags=lags, ax=acf, zero=False)\n",
    "    plot_pacf(data, lags=lags, ax=pacf, zero = False)\n",
    "    sns.despine()\n",
    "    plt.tight_layout()"
   ]
  },
  {
   "cell_type": "code",
   "execution_count": 43,
   "id": "d44034a4",
   "metadata": {},
   "outputs": [
    {
     "data": {
      "image/png": "[encoded data removed]",
      "text/plain": [
       "<Figure size 1080x288 with 3 Axes>"
      ]
     },
     "metadata": {
      "needs_background": "light"
     },
     "output_type": "display_data"
    }
   ],
   "source": [
    "plots(daily_sales['sales'], lags = 36)"
   ]
  },
  {
   "cell_type": "code",
   "execution_count": 44,
   "id": "4dfaa9ab",
   "metadata": {},
   "outputs": [
    {
     "data": {
      "image/png": "[encoded data removed]",
      "text/plain": [
       "<Figure size 1080x288 with 3 Axes>"
      ]
     },
     "metadata": {
      "needs_background": "light"
     },
     "output_type": "display_data"
    }
   ],
   "source": [
    "daily_sales['weekly_diff'] = daily_sales['sales'].diff(7)\n",
    "plots(daily_sales.weekly_diff.dropna(), lags=36)"
   ]
  },
  {
   "cell_type": "code",
   "execution_count": 45,
   "id": "2a89d125",
   "metadata": {
    "scrolled": true
   },
   "outputs": [
    {
     "name": "stdout",
     "output_type": "stream",
     "text": [
      "Test Statistic         -1.076840e+01\n",
      "p-value                 2.419281e-19\n",
      "Lags Used               2.300000e+01\n",
      "Observations Used       1.653000e+03\n",
      "Critical Value (1%)    -3.434312e+00\n",
      "Critical Value (5%)    -2.863290e+00\n",
      "Critical Value (10%)   -2.567702e+00\n",
      "dtype: float64\n"
     ]
    }
   ],
   "source": [
    "dftest(daily_sales.weekly_diff.dropna())"
   ]
  },
  {
   "cell_type": "code",
   "execution_count": null,
   "id": "bb1f2876",
   "metadata": {},
   "outputs": [],
   "source": []
  },
  {
   "cell_type": "markdown",
   "id": "5f2594c0",
   "metadata": {},
   "source": [
    "# SARIMAX"
   ]
  },
  {
   "cell_type": "code",
   "execution_count": 46,
   "id": "1ab838b2",
   "metadata": {
    "scrolled": false
   },
   "outputs": [
    {
     "name": "stdout",
     "output_type": "stream",
     "text": [
      "Performing stepwise search to minimize aic\n",
      " ARIMA(2,0,0)(0,1,1)[7] intercept   : AIC=45382.471, Time=0.65 sec\n",
      " ARIMA(0,0,0)(0,1,0)[7] intercept   : AIC=46109.561, Time=0.06 sec\n",
      " ARIMA(1,0,0)(1,1,0)[7] intercept   : AIC=45676.975, Time=0.58 sec\n",
      " ARIMA(0,0,1)(0,1,1)[7] intercept   : AIC=45439.256, Time=0.52 sec\n",
      " ARIMA(0,0,0)(0,1,0)[7]             : AIC=46107.670, Time=0.04 sec\n",
      " ARIMA(2,0,0)(0,1,0)[7] intercept   : AIC=46034.316, Time=0.16 sec\n",
      " ARIMA(2,0,0)(1,1,1)[7] intercept   : AIC=45383.299, Time=0.82 sec\n",
      " ARIMA(2,0,0)(0,1,2)[7] intercept   : AIC=45383.423, Time=1.31 sec\n",
      " ARIMA(2,0,0)(1,1,0)[7] intercept   : AIC=45657.440, Time=0.45 sec\n",
      " ARIMA(2,0,0)(1,1,2)[7] intercept   : AIC=45386.161, Time=1.23 sec\n",
      " ARIMA(1,0,0)(0,1,1)[7] intercept   : AIC=45407.931, Time=0.51 sec\n",
      " ARIMA(3,0,0)(0,1,1)[7] intercept   : AIC=45370.726, Time=0.78 sec\n",
      " ARIMA(3,0,0)(0,1,0)[7] intercept   : AIC=46034.361, Time=0.21 sec\n",
      " ARIMA(3,0,0)(1,1,1)[7] intercept   : AIC=45372.357, Time=1.14 sec\n",
      " ARIMA(3,0,0)(0,1,2)[7] intercept   : AIC=45372.383, Time=1.78 sec\n",
      " ARIMA(3,0,0)(1,1,0)[7] intercept   : AIC=45655.466, Time=0.71 sec\n",
      " ARIMA(3,0,0)(1,1,2)[7] intercept   : AIC=45374.704, Time=1.45 sec\n",
      " ARIMA(3,0,1)(0,1,1)[7] intercept   : AIC=45369.040, Time=1.67 sec\n",
      " ARIMA(3,0,1)(0,1,0)[7] intercept   : AIC=46035.122, Time=0.81 sec\n",
      " ARIMA(3,0,1)(1,1,1)[7] intercept   : AIC=45371.019, Time=2.56 sec\n",
      " ARIMA(3,0,1)(0,1,2)[7] intercept   : AIC=45371.038, Time=2.93 sec\n",
      " ARIMA(3,0,1)(1,1,0)[7] intercept   : AIC=45657.239, Time=1.78 sec\n",
      " ARIMA(3,0,1)(1,1,2)[7] intercept   : AIC=45366.626, Time=5.72 sec\n",
      " ARIMA(3,0,1)(2,1,2)[7] intercept   : AIC=45367.440, Time=6.56 sec\n",
      " ARIMA(3,0,1)(2,1,1)[7] intercept   : AIC=45372.984, Time=4.15 sec\n",
      " ARIMA(2,0,1)(1,1,2)[7] intercept   : AIC=45365.461, Time=4.32 sec\n",
      " ARIMA(2,0,1)(0,1,2)[7] intercept   : AIC=45372.029, Time=2.11 sec\n",
      " ARIMA(2,0,1)(1,1,1)[7] intercept   : AIC=45372.081, Time=1.51 sec\n",
      " ARIMA(2,0,1)(2,1,2)[7] intercept   : AIC=45366.559, Time=5.38 sec\n",
      " ARIMA(2,0,1)(0,1,1)[7] intercept   : AIC=45370.083, Time=1.13 sec\n",
      " ARIMA(2,0,1)(2,1,1)[7] intercept   : AIC=45374.078, Time=2.77 sec\n",
      " ARIMA(1,0,1)(1,1,2)[7] intercept   : AIC=45369.894, Time=3.59 sec\n",
      " ARIMA(2,0,2)(1,1,2)[7] intercept   : AIC=45366.801, Time=6.17 sec\n",
      " ARIMA(1,0,0)(1,1,2)[7] intercept   : AIC=45409.806, Time=3.25 sec\n",
      " ARIMA(1,0,2)(1,1,2)[7] intercept   : AIC=45366.724, Time=4.91 sec\n",
      " ARIMA(3,0,2)(1,1,2)[7] intercept   : AIC=45362.881, Time=7.23 sec\n",
      " ARIMA(3,0,2)(0,1,2)[7] intercept   : AIC=45371.411, Time=3.00 sec\n",
      " ARIMA(3,0,2)(1,1,1)[7] intercept   : AIC=45371.294, Time=2.91 sec\n",
      " ARIMA(3,0,2)(2,1,2)[7] intercept   : AIC=45364.255, Time=9.48 sec\n",
      " ARIMA(3,0,2)(0,1,1)[7] intercept   : AIC=45366.062, Time=4.69 sec\n",
      " ARIMA(3,0,2)(2,1,1)[7] intercept   : AIC=45373.287, Time=3.94 sec\n",
      " ARIMA(3,0,2)(1,1,2)[7]             : AIC=45360.735, Time=8.23 sec\n",
      " ARIMA(3,0,2)(0,1,2)[7]             : AIC=45361.455, Time=5.47 sec\n",
      " ARIMA(3,0,2)(1,1,1)[7]             : AIC=45361.455, Time=4.14 sec\n",
      " ARIMA(3,0,2)(2,1,2)[7]             : AIC=45362.066, Time=9.34 sec\n",
      " ARIMA(3,0,2)(0,1,1)[7]             : AIC=45359.455, Time=3.27 sec\n",
      " ARIMA(3,0,2)(0,1,0)[7]             : AIC=45860.211, Time=2.52 sec\n",
      " ARIMA(3,0,2)(1,1,0)[7]             : AIC=45657.883, Time=1.31 sec\n",
      " ARIMA(2,0,2)(0,1,1)[7]             : AIC=45360.755, Time=2.32 sec\n",
      " ARIMA(3,0,1)(0,1,1)[7]             : AIC=45359.033, Time=1.68 sec\n",
      " ARIMA(3,0,1)(0,1,0)[7]             : AIC=46033.160, Time=0.57 sec\n",
      " ARIMA(3,0,1)(1,1,1)[7]             : AIC=45360.731, Time=3.15 sec\n",
      " ARIMA(3,0,1)(0,1,2)[7]             : AIC=45360.733, Time=3.38 sec\n",
      " ARIMA(3,0,1)(1,1,0)[7]             : AIC=45655.356, Time=1.59 sec\n",
      " ARIMA(3,0,1)(1,1,2)[7]             : AIC=45363.033, Time=3.67 sec\n",
      " ARIMA(2,0,1)(0,1,1)[7]             : AIC=45357.079, Time=1.19 sec\n",
      " ARIMA(2,0,1)(0,1,0)[7]             : AIC=46033.270, Time=0.40 sec\n",
      " ARIMA(2,0,1)(1,1,1)[7]             : AIC=45358.867, Time=1.47 sec\n",
      " ARIMA(2,0,1)(0,1,2)[7]             : AIC=45358.868, Time=2.55 sec\n",
      " ARIMA(2,0,1)(1,1,0)[7]             : AIC=45654.096, Time=0.87 sec\n",
      " ARIMA(2,0,1)(1,1,2)[7]             : AIC=45361.076, Time=2.86 sec\n",
      " ARIMA(1,0,1)(0,1,1)[7]             : AIC=45367.058, Time=0.65 sec\n",
      " ARIMA(2,0,0)(0,1,1)[7]             : AIC=45383.466, Time=0.51 sec\n",
      " ARIMA(1,0,0)(0,1,1)[7]             : AIC=45409.680, Time=0.38 sec\n",
      " ARIMA(1,0,2)(0,1,1)[7]             : AIC=45358.784, Time=1.31 sec\n",
      " ARIMA(3,0,0)(0,1,1)[7]             : AIC=45371.441, Time=0.78 sec\n",
      "\n",
      "Best model:  ARIMA(2,0,1)(0,1,1)[7]          \n",
      "Total fit time: 168.693 seconds\n",
      "45357.078754050555\n"
     ]
    }
   ],
   "source": [
    "#from pyramid.arima import auto_arima\n",
    "stepwise_model = pm.auto_arima(daily_sales['sales'], \n",
    "                               exog=daily_sales[[ 'holiday_type', 'onpromotion','store_type','store_nbr']],\n",
    "                            start_p=2, start_q=0,\n",
    "                           max_p=3, max_q=2, m=7, # p,q = 1, 2, 3 \n",
    "                           start_P=0, seasonal=True,\n",
    "                           d=0, D=1, trace=True,\n",
    "                           error_action='ignore',  \n",
    "                           suppress_warnings=True, \n",
    "                           stepwise=True)\n",
    "print(stepwise_model.aic())"
   ]
  },
  {
   "cell_type": "code",
   "execution_count": null,
   "id": "3dc0152a",
   "metadata": {},
   "outputs": [
    {
     "name": "stdout",
     "output_type": "stream",
     "text": [
      "Performing stepwise search to minimize aic\n",
      " ARIMA(2,0,0)(0,1,1)[7] intercept   : AIC=45382.471, Time=0.57 sec\n",
      " ARIMA(0,0,0)(0,1,0)[7] intercept   : AIC=46109.561, Time=0.05 sec\n",
      " ARIMA(1,0,0)(1,1,0)[7] intercept   : AIC=45676.975, Time=0.45 sec\n",
      " ARIMA(0,0,1)(0,1,1)[7] intercept   : AIC=45439.256, Time=0.48 sec\n",
      " ARIMA(0,0,0)(0,1,0)[7]             : AIC=46107.670, Time=0.04 sec\n",
      " ARIMA(2,0,0)(0,1,0)[7] intercept   : AIC=46034.316, Time=0.16 sec\n",
      " ARIMA(2,0,0)(1,1,1)[7] intercept   : AIC=45383.299, Time=0.78 sec\n",
      " ARIMA(2,0,0)(0,1,2)[7] intercept   : AIC=45383.423, Time=1.28 sec\n",
      " ARIMA(2,0,0)(1,1,0)[7] intercept   : AIC=45657.440, Time=0.41 sec\n",
      " ARIMA(2,0,0)(1,1,2)[7] intercept   : AIC=45386.161, Time=1.32 sec\n",
      " ARIMA(1,0,0)(0,1,1)[7] intercept   : AIC=45407.931, Time=0.42 sec\n",
      " ARIMA(3,0,0)(0,1,1)[7] intercept   : AIC=45370.726, Time=0.84 sec\n",
      " ARIMA(3,0,0)(0,1,0)[7] intercept   : AIC=46034.361, Time=0.18 sec\n",
      " ARIMA(3,0,0)(1,1,1)[7] intercept   : AIC=45372.357, Time=1.11 sec\n",
      " ARIMA(3,0,0)(0,1,2)[7] intercept   : AIC=45372.383, Time=1.59 sec\n",
      " ARIMA(3,0,0)(1,1,0)[7] intercept   : AIC=45655.466, Time=0.92 sec\n",
      " ARIMA(3,0,0)(1,1,2)[7] intercept   : AIC=45374.704, Time=1.52 sec\n",
      " ARIMA(3,0,1)(0,1,1)[7] intercept   : AIC=45369.040, Time=1.68 sec\n",
      " ARIMA(3,0,1)(0,1,0)[7] intercept   : AIC=46035.122, Time=0.81 sec\n",
      " ARIMA(3,0,1)(1,1,1)[7] intercept   : AIC=45371.019, Time=2.65 sec\n",
      " ARIMA(3,0,1)(0,1,2)[7] intercept   : AIC=45371.038, Time=3.38 sec\n",
      " ARIMA(3,0,1)(1,1,0)[7] intercept   : AIC=45657.239, Time=1.91 sec\n",
      " ARIMA(3,0,1)(1,1,2)[7] intercept   : AIC=45366.626, Time=5.77 sec\n",
      " ARIMA(3,0,1)(2,1,2)[7] intercept   : AIC=45367.440, Time=6.51 sec\n",
      " ARIMA(3,0,1)(2,1,1)[7] intercept   : AIC=45372.984, Time=3.94 sec\n",
      " ARIMA(2,0,1)(1,1,2)[7] intercept   : AIC=45365.461, Time=4.45 sec\n",
      " ARIMA(2,0,1)(0,1,2)[7] intercept   : AIC=45372.029, Time=2.21 sec\n",
      " ARIMA(2,0,1)(1,1,1)[7] intercept   : AIC=45372.081, Time=1.50 sec\n",
      " ARIMA(2,0,1)(2,1,2)[7] intercept   : AIC=45366.559, Time=5.92 sec\n",
      " ARIMA(2,0,1)(0,1,1)[7] intercept   : AIC=45370.083, Time=1.09 sec\n",
      " ARIMA(2,0,1)(2,1,1)[7] intercept   : AIC=45374.078, Time=3.05 sec\n",
      " ARIMA(1,0,1)(1,1,2)[7] intercept   : AIC=45369.894, Time=3.69 sec\n",
      " ARIMA(2,0,2)(1,1,2)[7] intercept   : AIC=45366.801, Time=6.49 sec\n",
      " ARIMA(1,0,0)(1,1,2)[7] intercept   : AIC=45409.806, Time=2.89 sec\n",
      " ARIMA(1,0,2)(1,1,2)[7] intercept   : AIC=45366.724, Time=5.08 sec\n",
      " ARIMA(3,0,2)(1,1,2)[7] intercept   : AIC=45362.881, Time=7.47 sec\n",
      " ARIMA(3,0,2)(0,1,2)[7] intercept   : AIC=45371.411, Time=2.93 sec\n",
      " ARIMA(3,0,2)(1,1,1)[7] intercept   : AIC=45371.294, Time=2.93 sec\n",
      " ARIMA(3,0,2)(2,1,2)[7] intercept   : AIC=45364.255, Time=9.48 sec\n",
      " ARIMA(3,0,2)(0,1,1)[7] intercept   : AIC=45366.062, Time=4.58 sec\n",
      " ARIMA(3,0,2)(2,1,1)[7] intercept   : AIC=45373.287, Time=3.74 sec\n",
      " ARIMA(3,0,2)(1,1,2)[7]             : AIC=45360.735, Time=8.08 sec\n",
      " ARIMA(3,0,2)(0,1,2)[7]             : AIC=45361.455, Time=5.46 sec\n",
      " ARIMA(3,0,2)(1,1,1)[7]             : AIC=45361.455, Time=4.15 sec\n",
      " ARIMA(3,0,2)(2,1,2)[7]             : AIC=45362.066, Time=9.22 sec\n",
      " ARIMA(3,0,2)(0,1,1)[7]             : AIC=45359.455, Time=3.14 sec\n",
      " ARIMA(3,0,2)(0,1,0)[7]             : AIC=45860.211, Time=2.34 sec\n",
      " ARIMA(3,0,2)(1,1,0)[7]             : AIC=45657.883, Time=1.44 sec\n",
      " ARIMA(2,0,2)(0,1,1)[7]             : AIC=45360.755, Time=2.12 sec\n",
      " ARIMA(3,0,1)(0,1,1)[7]             : AIC=45359.033, Time=1.57 sec\n",
      " ARIMA(3,0,1)(0,1,0)[7]             : AIC=46033.160, Time=0.64 sec\n",
      " ARIMA(3,0,1)(1,1,1)[7]             : AIC=45360.731, Time=2.72 sec\n",
      " ARIMA(3,0,1)(0,1,2)[7]             : AIC=45360.733, Time=3.33 sec\n",
      " ARIMA(3,0,1)(1,1,0)[7]             : AIC=45655.356, Time=1.47 sec\n",
      " ARIMA(3,0,1)(1,1,2)[7]             : AIC=45363.033, Time=3.11 sec\n",
      " ARIMA(2,0,1)(0,1,1)[7]             : AIC=45357.079, Time=1.21 sec\n",
      " ARIMA(2,0,1)(0,1,0)[7]             : AIC=46033.270, Time=0.34 sec\n",
      " ARIMA(2,0,1)(1,1,1)[7]             : AIC=45358.867, Time=1.68 sec\n",
      " ARIMA(2,0,1)(0,1,2)[7]             : AIC=45358.868, Time=2.42 sec\n",
      " ARIMA(2,0,1)(1,1,0)[7]             : AIC=45654.096, Time=0.91 sec\n"
     ]
    }
   ],
   "source": [
    "#from pyramid.arima import auto_arima\n",
    "stepwise_model1 = pm.auto_arima(everyday_sales['sales'], \n",
    "                               exog=everyday_sales[['onpromotion','store_nbr']],\n",
    "                            start_p=2, start_q=0,\n",
    "                           max_p=3, max_q=2, m=7, # p,q = 1, 2, 3 \n",
    "                           start_P=0, seasonal=True,\n",
    "                           d=0, D=1, trace=True,\n",
    "                           error_action='ignore',  \n",
    "                           suppress_warnings=True, \n",
    "                           stepwise=True)\n",
    "print(stepwise_model1.aic())"
   ]
  },
  {
   "cell_type": "code",
   "execution_count": null,
   "id": "de103a77",
   "metadata": {},
   "outputs": [],
   "source": [
    "order = stepwise_model.order\n",
    "seasonal_order = stepwise_model.seasonal_order\n",
    "print('order: ',order)\n",
    "print('seasonal order: ',seasonal_order)"
   ]
  },
  {
   "cell_type": "code",
   "execution_count": null,
   "id": "69117534",
   "metadata": {},
   "outputs": [],
   "source": [
    "order = stepwise_model1.order\n",
    "seasonal_order = stepwise_model.seasonal_order\n",
    "print('order: ',order)\n",
    "print('seasonal order: ',seasonal_order)"
   ]
  },
  {
   "cell_type": "code",
   "execution_count": null,
   "id": "60e10154",
   "metadata": {
    "scrolled": false
   },
   "outputs": [],
   "source": [
    "from statsmodels.tsa.statespace.sarimax import SARIMAX\n",
    "# fit SARIMA based on helper plots\n",
    "sar = SARIMAX(daily_sales['sales'], \n",
    "              exog=daily_sales[['holiday_type', 'onpromotion','store_type','store_nbr']], #Exclude  'transactions'\n",
    "                order=order,\n",
    "                seasonal_order=seasonal_order, #(P, Q, D)\n",
    "                trend='c').fit()\n",
    "sar.summary()"
   ]
  },
  {
   "cell_type": "code",
   "execution_count": null,
   "id": "5379a863",
   "metadata": {},
   "outputs": [],
   "source": [
    "from statsmodels.tsa.statespace.sarimax import SARIMAX\n",
    "# fit SARIMA based on helper plots\n",
    "sar = SARIMAX(everyday_sales['sales'], \n",
    "              exog=everyday_sales[[ 'onpromotion','store_nbr']], #Exclude  'transactions'\n",
    "                order=order,\n",
    "                seasonal_order=seasonal_order, #(P, Q, D)\n",
    "                trend='c').fit()\n",
    "sar.summary()"
   ]
  },
  {
   "cell_type": "code",
   "execution_count": null,
   "id": "28ec5fde",
   "metadata": {},
   "outputs": [],
   "source": [
    "plots(sar.resid[sar.loglikelihood_burn:], lags=36)"
   ]
  },
  {
   "cell_type": "code",
   "execution_count": null,
   "id": "89c2677e",
   "metadata": {
    "scrolled": true
   },
   "outputs": [],
   "source": [
    "# Select the last 60 days of data for comparison\n",
    "last_60_days = daily_sales.iloc[-60:]\n",
    "\n",
    "# Extract the exogenous variables for the last 60 days\n",
    "exog_data = last_60_days[['holiday_type', 'onpromotion','store_type','store_nbr']]\n",
    "\n",
    "# Get the forecast for the next 60 days, including exogenous variables\n",
    "forecast = sar.get_prediction(start=last_60_days.index[0], end=last_60_days.index[-1], exog=exog_data)\n",
    "\n",
    "# Extract the predicted values for the next 60 days\n",
    "predicted_values = forecast.predicted_mean\n",
    "\n",
    "# Plot the actual sales and predicted values\n",
    "plt.plot(daily_sales[1600:]['sales'], label = 'Actual')\n",
    "plt.plot(predicted_values.index, predicted_values, label='Forecast')\n",
    "plt.xticks(rotation = 90)\n",
    "plt.legend()\n",
    "plt.show()"
   ]
  },
  {
   "cell_type": "code",
   "execution_count": null,
   "id": "00055cac",
   "metadata": {},
   "outputs": [],
   "source": [
    "# Select the last 60 days of data for comparison\n",
    "last_60_days = everyday_sales.iloc[-60:]\n",
    "\n",
    "# Extract the exogenous variables for the last 60 days\n",
    "exog_data = last_60_days[['onpromotion','store_nbr']]\n",
    "\n",
    "# Get the forecast for the next 60 days, including exogenous variables\n",
    "forecast = sar1.get_prediction(start=last_60_days.index[0], end=last_60_days.index[-1], exog=exog_data)\n",
    "\n",
    "# Extract the predicted values for the next 60 days\n",
    "predicted_values = forecast.predicted_mean\n",
    "\n",
    "# Plot the actual sales and predicted values\n",
    "plt.plot(daily_sales[1600:]['sales'], label = 'Actual')\n",
    "plt.plot(predicted_values.index, predicted_values, label='Forecast')\n",
    "plt.xticks(rotation = 90)\n",
    "plt.legend()\n",
    "plt.show()"
   ]
  },
  {
   "cell_type": "code",
   "execution_count": null,
   "id": "27f4ec5a",
   "metadata": {},
   "outputs": [],
   "source": []
  },
  {
   "cell_type": "markdown",
   "id": "caa9aae3",
   "metadata": {},
   "source": [
    "# Using LightGBM"
   ]
  },
  {
   "cell_type": "code",
   "execution_count": null,
   "id": "206e847f",
   "metadata": {},
   "outputs": [],
   "source": [
    "for col in ['family']:\n",
    "    df[col] = df[col].astype('category').cat.codes\n",
    "    test_df[col] = test_df[col].astype('category').cat.codes"
   ]
  },
  {
   "cell_type": "code",
   "execution_count": null,
   "id": "33b79d35",
   "metadata": {},
   "outputs": [],
   "source": [
    "X = df.drop(['date', 'sales'], axis=1)\n",
    "y = df['sales']\n"
   ]
  },
  {
   "cell_type": "code",
   "execution_count": null,
   "id": "80ed5e97",
   "metadata": {},
   "outputs": [],
   "source": [
    "from sklearn.model_selection import train_test_split\n",
    "X_train, X_val, y_train, y_val = train_test_split(X, y, test_size=0.2, random_state=42)\n",
    "train_data = lgb.Dataset(X_train, label=y_train)\n",
    "val_data = lgb.Dataset(X_val, label=y_val, reference=train_data)\n",
    "y_train_log = np.log1p(y_train)\n",
    "y_val_log = np.log1p(y_val)"
   ]
  },
  {
   "cell_type": "code",
   "execution_count": null,
   "id": "aec70a16",
   "metadata": {},
   "outputs": [],
   "source": [
    "# LightGBM dataset\n",
    "train_data = lgb.Dataset(X_train, label=y_train_log)\n",
    "\n",
    "# hyperparameters for LightGBM model\n",
    "params = {\n",
    "    'objective': 'regression',\n",
    "    'metric': 'rmse',\n",
    "    'boosting_type': 'gbdt',\n",
    "    'learning_rate': 0.1,\n",
    "    'num_leaves': 31,\n",
    "    'max_depth': -1,\n",
    "    'min_data_in_leaf': 20,\n",
    "    'bagging_fraction': 0.8,\n",
    "    'bagging_freq': 1,\n",
    "    'feature_fraction': 0.8,\n",
    "    'lambda_l1': 0.0,\n",
    "    'lambda_l2': 0.0,\n",
    "    'min_gain_to_split': 0.0,\n",
    "    'min_sum_hessian_in_leaf': 1e-3}"
   ]
  },
  {
   "cell_type": "code",
   "execution_count": null,
   "id": "7f030974",
   "metadata": {
    "scrolled": true
   },
   "outputs": [],
   "source": [
    "# Training\n",
    "lgb_model = lgb.train(params, \n",
    "                      train_data, \n",
    "                      num_boost_round=1000, \n",
    "                      valid_sets=[train_data], \n",
    "                      early_stopping_rounds=50, \n",
    "                      verbose_eval=100)\n",
    "\n",
    "# Predictions\n",
    "y_val_pred = lgb_model.predict(X_val)\n",
    "y_val_pred = np.clip(y_val_pred, 0, None)\n",
    "test_pred = lgb_model.predict(X_val) \n",
    "\n",
    "# Inverse log1p transformation\n",
    "test_sales = np.expm1(test_pred)"
   ]
  },
  {
   "cell_type": "code",
   "execution_count": null,
   "id": "252c2555",
   "metadata": {},
   "outputs": [],
   "source": [
    "feature_importance = pd.DataFrame({'feature': X.columns, 'importance': lgb_model.feature_importance()})\n",
    "feature_importance = feature_importance.sort_values('importance', ascending=False)\n",
    "feature_names = X.columns.tolist()\n",
    "\n",
    "\n",
    "\n",
    "plt.figure(figsize=(10, 6))\n",
    "sns.barplot(x='importance', y='feature', data=feature_importance)\n",
    "plt.xlabel('Importance')\n",
    "plt.ylabel('Feature')\n",
    "plt.title('Feature Importance')\n",
    "plt.show()\n"
   ]
  },
  {
   "cell_type": "code",
   "execution_count": null,
   "id": "7b1bed64",
   "metadata": {},
   "outputs": [],
   "source": [
    "from sklearn.preprocessing import MinMaxScaler \n",
    "#Split the data into train and test sets\n",
    "\n",
    "# Define the features and target variable\n",
    "X = df.drop(['date', 'sales'], axis=1)\n",
    "y= df['sales']\n",
    "\n",
    "from sklearn.model_selection import train_test_split\n",
    "X_train, X_test ,y_train, y_test = train_test_split(X,y,test_size=0.3, random_state=42)\n",
    "# Scale the features\n",
    "scaler = MinMaxScaler()\n",
    "X_train = scaler.fit_transform(X_train)\n",
    "X_test = scaler.transform(X_test)"
   ]
  },
  {
   "cell_type": "code",
   "execution_count": null,
   "id": "5f36415d",
   "metadata": {},
   "outputs": [],
   "source": [
    "from sklearn.decomposition import PCA\n",
    "\n",
    "# Apply PCA\n",
    "pca = PCA(n_components=0.95)\n",
    "X_train = pca.fit_transform(X_train)\n",
    "X_test = pca.transform(X_test)"
   ]
  },
  {
   "cell_type": "markdown",
   "id": "b17d37b3",
   "metadata": {},
   "source": [
    "# Comparing Xboost and ARIMA"
   ]
  },
  {
   "cell_type": "code",
   "execution_count": null,
   "id": "12b90abd",
   "metadata": {
    "scrolled": true
   },
   "outputs": [],
   "source": [
    "from statsmodels.tsa.arima.model import ARIMA\n",
    "from xgboost import XGBRegressor\n",
    "from sklearn.metrics import mean_squared_error\n",
    "\n",
    "# Define the XGBoost model\n",
    "model_xg = XGBRegressor(\n",
    "    n_estimators=100,\n",
    "    max_depth=6,\n",
    "    min_child_weight=1,\n",
    "    learning_rate=0.1,\n",
    "    subsample=0.8,\n",
    "    colsample_bytree=0.8, \n",
    ")\n",
    "\n",
    "# Define the ARIMA model\n",
    "model_ar = ARIMA(y_train, order=(2, 0, 0))\n",
    "\n",
    "# Fit the models\n",
    "model_xg.fit(X_train, y_train)\n",
    "model_ar = model_ar.fit()  \n",
    "\n",
    "# Make predictions\n",
    "predictions_xg = model_xg.predict(X_test)\n",
    "predictions_ar = model_ar.predict(start=len(y_train), end=len(y_train) + len(y_test) - 1)  \n",
    "\n",
    "# Calculate the mean squared error\n",
    "mse_xg = mean_squared_error(y_test, predictions_xg)\n",
    "mse_ar = mean_squared_error(y_test, predictions_ar)"
   ]
  },
  {
   "cell_type": "code",
   "execution_count": null,
   "id": "2975872a",
   "metadata": {},
   "outputs": [],
   "source": [
    "print(mse_xg)\n",
    "print(mse_ar)"
   ]
  },
  {
   "cell_type": "code",
   "execution_count": null,
   "id": "c09aedf1",
   "metadata": {},
   "outputs": [],
   "source": []
  }
 ],
 "metadata": {
  "kernelspec": {
   "display_name": "Python 3 (ipykernel)",
   "language": "python",
   "name": "python3"
  },
  "language_info": {
   "codemirror_mode": {
    "name": "ipython",
    "version": 3
   },
   "file_extension": ".py",
   "mimetype": "text/x-python",
   "name": "python",
   "nbconvert_exporter": "python",
   "pygments_lexer": "ipython3",
   "version": "3.9.7"
  }
 },
 "nbformat": 4,
 "nbformat_minor": 5
}
